{
 "cells": [
  {
   "cell_type": "markdown",
   "id": "XrN3nFr49MqE",
   "metadata": {
    "id": "XrN3nFr49MqE"
   },
   "source": [
    "# Линейная регрессия"
   ]
  },
  {
   "cell_type": "markdown",
   "id": "663ef6ad",
   "metadata": {
    "id": "663ef6ad"
   },
   "source": [
    "В этом ноутбуке мы научимся применять модель линейной регрессии для решения задачи регрессии. Мы будем использовать датасет с информацией о пингвинах. \n",
    "\n",
    "В первой части ноутбука мы применим линейную регрессию для предсказания длины плавника пингвина по массе его тела. Мы построим линейную регрессию, визуализируем ее решающую поверхность и ошибки модели на элементах датасета.\n",
    "\n",
    "Во второй части ноутбука мы применим линейную регрессию для предсказания массы тела пингвина по всем его другим характеристикам. "
   ]
  },
  {
   "cell_type": "markdown",
   "id": "62539353",
   "metadata": {
    "id": "62539353"
   },
   "source": [
    "Начнем с импорта библиотек:"
   ]
  },
  {
   "cell_type": "code",
   "execution_count": 1,
   "id": "e07e5b3b",
   "metadata": {
    "executionInfo": {
     "elapsed": 873,
     "status": "ok",
     "timestamp": 1656338324987,
     "user": {
      "displayName": "Татьяна Андреевна Гайнцева",
      "userId": "17554479887788199937"
     },
     "user_tz": -180
    },
    "id": "e07e5b3b"
   },
   "outputs": [],
   "source": [
    "import numpy as np\n",
    "import pandas as pd\n",
    "import matplotlib.pyplot as plt"
   ]
  },
  {
   "cell_type": "markdown",
   "id": "7b73286a",
   "metadata": {
    "id": "7b73286a"
   },
   "source": [
    "## Загрузка датасета"
   ]
  },
  {
   "cell_type": "markdown",
   "id": "Hrcp7Jid9WjN",
   "metadata": {
    "id": "Hrcp7Jid9WjN"
   },
   "source": [
    "<img src=\"https://imgur.com/orZWHly.png\" alt=\"Drawing\" style=\"width: 800px;\"/>\n",
    "source: @allison_horst https://github.com/allisonhorst/penguins"
   ]
  },
  {
   "cell_type": "markdown",
   "id": "kP2ZUkKU7pNK",
   "metadata": {
    "id": "kP2ZUkKU7pNK"
   },
   "source": [
    "### Загрузка и визуализация данных"
   ]
  },
  {
   "cell_type": "markdown",
   "id": "853dd6da",
   "metadata": {
    "id": "853dd6da"
   },
   "source": [
    "Загрузим датасет пингвинов. Ссылка на скачивание датасета: [датасет](https://drive.google.com/file/d/14Emlklqtb74YUPllzwTSTWwcIy8NbQXo/view?usp=sharing)"
   ]
  },
  {
   "cell_type": "code",
   "execution_count": 2,
   "id": "8ed371f2",
   "metadata": {
    "colab": {
     "base_uri": "https://localhost:8080/",
     "height": 201
    },
    "executionInfo": {
     "elapsed": 255,
     "status": "ok",
     "timestamp": 1656338355041,
     "user": {
      "displayName": "Татьяна Андреевна Гайнцева",
      "userId": "17554479887788199937"
     },
     "user_tz": -180
    },
    "id": "8ed371f2",
    "outputId": "616d9d53-8aba-4f79-bd4b-2c7264a0d412"
   },
   "outputs": [
    {
     "data": {
      "text/html": [
       "\n",
       "  <div id=\"df-af49cd31-e57d-41b1-84cd-7401154571bb\">\n",
       "    <div class=\"colab-df-container\">\n",
       "      <div>\n",
       "<style scoped>\n",
       "    .dataframe tbody tr th:only-of-type {\n",
       "        vertical-align: middle;\n",
       "    }\n",
       "\n",
       "    .dataframe tbody tr th {\n",
       "        vertical-align: top;\n",
       "    }\n",
       "\n",
       "    .dataframe thead th {\n",
       "        text-align: right;\n",
       "    }\n",
       "</style>\n",
       "<table border=\"1\" class=\"dataframe\">\n",
       "  <thead>\n",
       "    <tr style=\"text-align: right;\">\n",
       "      <th></th>\n",
       "      <th>вид</th>\n",
       "      <th>остров</th>\n",
       "      <th>длина клюва</th>\n",
       "      <th>ширина клюва</th>\n",
       "      <th>длина плавника</th>\n",
       "      <th>масса тела</th>\n",
       "      <th>пол</th>\n",
       "    </tr>\n",
       "  </thead>\n",
       "  <tbody>\n",
       "    <tr>\n",
       "      <th>0</th>\n",
       "      <td>0</td>\n",
       "      <td>2</td>\n",
       "      <td>39.1</td>\n",
       "      <td>18.7</td>\n",
       "      <td>181.0</td>\n",
       "      <td>3750.0</td>\n",
       "      <td>1</td>\n",
       "    </tr>\n",
       "    <tr>\n",
       "      <th>1</th>\n",
       "      <td>0</td>\n",
       "      <td>2</td>\n",
       "      <td>39.5</td>\n",
       "      <td>17.4</td>\n",
       "      <td>186.0</td>\n",
       "      <td>3800.0</td>\n",
       "      <td>0</td>\n",
       "    </tr>\n",
       "    <tr>\n",
       "      <th>2</th>\n",
       "      <td>0</td>\n",
       "      <td>2</td>\n",
       "      <td>40.3</td>\n",
       "      <td>18.0</td>\n",
       "      <td>195.0</td>\n",
       "      <td>3250.0</td>\n",
       "      <td>0</td>\n",
       "    </tr>\n",
       "    <tr>\n",
       "      <th>3</th>\n",
       "      <td>0</td>\n",
       "      <td>2</td>\n",
       "      <td>36.7</td>\n",
       "      <td>19.3</td>\n",
       "      <td>193.0</td>\n",
       "      <td>3450.0</td>\n",
       "      <td>0</td>\n",
       "    </tr>\n",
       "    <tr>\n",
       "      <th>4</th>\n",
       "      <td>0</td>\n",
       "      <td>2</td>\n",
       "      <td>39.3</td>\n",
       "      <td>20.6</td>\n",
       "      <td>190.0</td>\n",
       "      <td>3650.0</td>\n",
       "      <td>1</td>\n",
       "    </tr>\n",
       "  </tbody>\n",
       "</table>\n",
       "</div>\n",
       "      <button class=\"colab-df-convert\" onclick=\"convertToInteractive('df-af49cd31-e57d-41b1-84cd-7401154571bb')\"\n",
       "              title=\"Convert this dataframe to an interactive table.\"\n",
       "              style=\"display:none;\">\n",
       "        \n",
       "  <svg xmlns=\"http://www.w3.org/2000/svg\" height=\"24px\"viewBox=\"0 0 24 24\"\n",
       "       width=\"24px\">\n",
       "    <path d=\"M0 0h24v24H0V0z\" fill=\"none\"/>\n",
       "    <path d=\"M18.56 5.44l.94 2.06.94-2.06 2.06-.94-2.06-.94-.94-2.06-.94 2.06-2.06.94zm-11 1L8.5 8.5l.94-2.06 2.06-.94-2.06-.94L8.5 2.5l-.94 2.06-2.06.94zm10 10l.94 2.06.94-2.06 2.06-.94-2.06-.94-.94-2.06-.94 2.06-2.06.94z\"/><path d=\"M17.41 7.96l-1.37-1.37c-.4-.4-.92-.59-1.43-.59-.52 0-1.04.2-1.43.59L10.3 9.45l-7.72 7.72c-.78.78-.78 2.05 0 2.83L4 21.41c.39.39.9.59 1.41.59.51 0 1.02-.2 1.41-.59l7.78-7.78 2.81-2.81c.8-.78.8-2.07 0-2.86zM5.41 20L4 18.59l7.72-7.72 1.47 1.35L5.41 20z\"/>\n",
       "  </svg>\n",
       "      </button>\n",
       "      \n",
       "  <style>\n",
       "    .colab-df-container {\n",
       "      display:flex;\n",
       "      flex-wrap:wrap;\n",
       "      gap: 12px;\n",
       "    }\n",
       "\n",
       "    .colab-df-convert {\n",
       "      background-color: #E8F0FE;\n",
       "      border: none;\n",
       "      border-radius: 50%;\n",
       "      cursor: pointer;\n",
       "      display: none;\n",
       "      fill: #1967D2;\n",
       "      height: 32px;\n",
       "      padding: 0 0 0 0;\n",
       "      width: 32px;\n",
       "    }\n",
       "\n",
       "    .colab-df-convert:hover {\n",
       "      background-color: #E2EBFA;\n",
       "      box-shadow: 0px 1px 2px rgba(60, 64, 67, 0.3), 0px 1px 3px 1px rgba(60, 64, 67, 0.15);\n",
       "      fill: #174EA6;\n",
       "    }\n",
       "\n",
       "    [theme=dark] .colab-df-convert {\n",
       "      background-color: #3B4455;\n",
       "      fill: #D2E3FC;\n",
       "    }\n",
       "\n",
       "    [theme=dark] .colab-df-convert:hover {\n",
       "      background-color: #434B5C;\n",
       "      box-shadow: 0px 1px 3px 1px rgba(0, 0, 0, 0.15);\n",
       "      filter: drop-shadow(0px 1px 2px rgba(0, 0, 0, 0.3));\n",
       "      fill: #FFFFFF;\n",
       "    }\n",
       "  </style>\n",
       "\n",
       "      <script>\n",
       "        const buttonEl =\n",
       "          document.querySelector('#df-af49cd31-e57d-41b1-84cd-7401154571bb button.colab-df-convert');\n",
       "        buttonEl.style.display =\n",
       "          google.colab.kernel.accessAllowed ? 'block' : 'none';\n",
       "\n",
       "        async function convertToInteractive(key) {\n",
       "          const element = document.querySelector('#df-af49cd31-e57d-41b1-84cd-7401154571bb');\n",
       "          const dataTable =\n",
       "            await google.colab.kernel.invokeFunction('convertToInteractive',\n",
       "                                                     [key], {});\n",
       "          if (!dataTable) return;\n",
       "\n",
       "          const docLinkHtml = 'Like what you see? Visit the ' +\n",
       "            '<a target=\"_blank\" href=https://colab.research.google.com/notebooks/data_table.ipynb>data table notebook</a>'\n",
       "            + ' to learn more about interactive tables.';\n",
       "          element.innerHTML = '';\n",
       "          dataTable['output_type'] = 'display_data';\n",
       "          await google.colab.output.renderOutput(dataTable, element);\n",
       "          const docLink = document.createElement('div');\n",
       "          docLink.innerHTML = docLinkHtml;\n",
       "          element.appendChild(docLink);\n",
       "        }\n",
       "      </script>\n",
       "    </div>\n",
       "  </div>\n",
       "  "
      ],
      "text/plain": [
       "   вид  остров  длина клюва  ширина клюва  длина плавника  масса тела  пол\n",
       "0    0       2         39.1          18.7           181.0      3750.0    1\n",
       "1    0       2         39.5          17.4           186.0      3800.0    0\n",
       "2    0       2         40.3          18.0           195.0      3250.0    0\n",
       "3    0       2         36.7          19.3           193.0      3450.0    0\n",
       "4    0       2         39.3          20.6           190.0      3650.0    1"
      ]
     },
     "execution_count": 2,
     "metadata": {},
     "output_type": "execute_result"
    }
   ],
   "source": [
    "data = pd.read_csv('penguins.csv')\n",
    "data.head()"
   ]
  },
  {
   "cell_type": "markdown",
   "id": "85a0008f",
   "metadata": {
    "id": "85a0008f"
   },
   "source": [
    "Датасет содержит 7 признаков:\n",
    "\n",
    "- **вид**: вид пингвина. Всего их три разных:\t\n",
    "  - 0: Adelie\n",
    "  - 1: Chinstrap\n",
    "  - 2: Gento\n",
    "- **остров**: oстров, на котором обитает пингвин. Всего их три разных:\n",
    "  - 0: Biscoe  \n",
    "  - 1: Dream\n",
    "  - 2: Torgersen\n",
    "- **длина клюва**: длина клюва пингвина в миллиметрах;\n",
    "- **ширина клюва**: ширина клюва пингвина в миллиметрах;\n",
    "- **длина плавника**: длина плавника пингвина в миллиметрах;\n",
    "- **масса тела**:\tмасса тела пингвина в граммах;\n",
    "- **пол**: пол пингвина. Всго их два:\n",
    "  - 0: самка\n",
    "  - 1: самец\n",
    "\n",
    "\n",
    "\n"
   ]
  },
  {
   "cell_type": "markdown",
   "id": "38a0dcd6",
   "metadata": {
    "id": "38a0dcd6"
   },
   "source": [
    "## Задача 1. Предсказание длины плавника по массе тела"
   ]
  },
  {
   "cell_type": "markdown",
   "id": "e59c0df9",
   "metadata": {
    "id": "e59c0df9"
   },
   "source": [
    "Создадим новый датафрейм, в котором будет две колонки из данных: масса тела и длина плавника. Разобьем его на две переменные X и y. Мы будем решать задачу предсказания длины плавника пингвина по массе его тела, поэтому признаком Х будет масса тела, а признаком y — длина плавника."
   ]
  },
  {
   "cell_type": "code",
   "execution_count": 3,
   "id": "3b2cf6e1",
   "metadata": {
    "executionInfo": {
     "elapsed": 737,
     "status": "ok",
     "timestamp": 1656338444621,
     "user": {
      "displayName": "Татьяна Андреевна Гайнцева",
      "userId": "17554479887788199937"
     },
     "user_tz": -180
    },
    "id": "3b2cf6e1"
   },
   "outputs": [],
   "source": [
    "X = data[['масса тела']]\n",
    "y = data['длина плавника']"
   ]
  },
  {
   "cell_type": "markdown",
   "id": "6c71093b",
   "metadata": {
    "id": "6c71093b"
   },
   "source": [
    "Разобьем выборку на тренировочную и тестовую:"
   ]
  },
  {
   "cell_type": "code",
   "execution_count": 5,
   "id": "0cdde55d",
   "metadata": {
    "executionInfo": {
     "elapsed": 786,
     "status": "ok",
     "timestamp": 1656338517321,
     "user": {
      "displayName": "Татьяна Андреевна Гайнцева",
      "userId": "17554479887788199937"
     },
     "user_tz": -180
    },
    "id": "0cdde55d"
   },
   "outputs": [],
   "source": [
    "from sklearn.model_selection import train_test_split\n",
    "\n",
    "X_train, X_test, y_train, y_test = train_test_split(X, y, test_size=0.15)"
   ]
  },
  {
   "cell_type": "markdown",
   "id": "46c5f1e6",
   "metadata": {
    "id": "46c5f1e6"
   },
   "source": [
    "Визуализируем данные на плоскости:"
   ]
  },
  {
   "cell_type": "code",
   "execution_count": 6,
   "id": "ef974906",
   "metadata": {
    "colab": {
     "base_uri": "https://localhost:8080/",
     "height": 278
    },
    "executionInfo": {
     "elapsed": 328,
     "status": "ok",
     "timestamp": 1656338535469,
     "user": {
      "displayName": "Татьяна Андреевна Гайнцева",
      "userId": "17554479887788199937"
     },
     "user_tz": -180
    },
    "id": "ef974906",
    "outputId": "21737095-a4c1-4a79-b860-c8951ce49cd0"
   },
   "outputs": [
    {
     "data": {
      "image/png": "[encoded data removed]",
      "text/plain": [
       "<Figure size 432x288 with 1 Axes>"
      ]
     },
     "metadata": {
      "needs_background": "light"
     },
     "output_type": "display_data"
    }
   ],
   "source": [
    "# визуализируем точки обучающей выборки\n",
    "plt.scatter(X_train, y_train)\n",
    "\n",
    "# подпишем оси\n",
    "plt.xlabel('масса тела (мм)');\n",
    "plt.ylabel('длина плавника (мм)');\n",
    "\n",
    "plt.show()"
   ]
  },
  {
   "cell_type": "markdown",
   "id": "48244af1",
   "metadata": {
    "id": "48244af1"
   },
   "source": [
    "Обучим модель линейной регрессии. Модель будет учиться предсказывать величину y (длину плавника) по величине X (массе тела).\n",
    "\n",
    "Мы будем использовать линейную регрессию из библиотеки sklearn. Вот ссылка на ее докумнтацию: https://scikit-learn.org/stable/modules/generated/sklearn.linear_model.LinearRegression.html"
   ]
  },
  {
   "cell_type": "code",
   "execution_count": 7,
   "id": "y5O4RslUrSl_",
   "metadata": {
    "executionInfo": {
     "elapsed": 5,
     "status": "ok",
     "timestamp": 1656338653105,
     "user": {
      "displayName": "Татьяна Андреевна Гайнцева",
      "userId": "17554479887788199937"
     },
     "user_tz": -180
    },
    "id": "y5O4RslUrSl_"
   },
   "outputs": [],
   "source": [
    "from sklearn.linear_model import LinearRegression"
   ]
  },
  {
   "cell_type": "code",
   "execution_count": 8,
   "id": "69fdf176",
   "metadata": {
    "colab": {
     "base_uri": "https://localhost:8080/"
    },
    "executionInfo": {
     "elapsed": 411,
     "status": "ok",
     "timestamp": 1656338689967,
     "user": {
      "displayName": "Татьяна Андреевна Гайнцева",
      "userId": "17554479887788199937"
     },
     "user_tz": -180
    },
    "id": "69fdf176",
    "outputId": "bd44d1da-af87-42e9-8b12-68503b7e31ae"
   },
   "outputs": [
    {
     "data": {
      "text/plain": [
       "LinearRegression()"
      ]
     },
     "execution_count": 8,
     "metadata": {},
     "output_type": "execute_result"
    }
   ],
   "source": [
    "# заводим модель линейной регрессии\n",
    "lr = LinearRegression()\n",
    "\n",
    "# обучим линейную регрессию\n",
    "lr.fit(X_train, y_train)"
   ]
  },
  {
   "cell_type": "markdown",
   "id": "0b4ce450",
   "metadata": {
    "id": "0b4ce450"
   },
   "source": [
    "Выведем значения коэффициентов линейной регрессии. \n",
    "- lr.coef_ — коэффициент, соответствующий признаку X ($k_1$), \n",
    "- lr.intercept_ — свободный член ($k_0$)."
   ]
  },
  {
   "cell_type": "code",
   "execution_count": 9,
   "id": "c77ea952",
   "metadata": {
    "colab": {
     "base_uri": "https://localhost:8080/"
    },
    "executionInfo": {
     "elapsed": 317,
     "status": "ok",
     "timestamp": 1656338730930,
     "user": {
      "displayName": "Татьяна Андреевна Гайнцева",
      "userId": "17554479887788199937"
     },
     "user_tz": -180
    },
    "id": "c77ea952",
    "outputId": "a1cea3fb-bbf9-4dcf-eaae-5efdacde1e4a"
   },
   "outputs": [
    {
     "data": {
      "text/plain": [
       "(array([0.01499627]), 137.85533817843935)"
      ]
     },
     "execution_count": 9,
     "metadata": {},
     "output_type": "execute_result"
    }
   ],
   "source": [
    "lr.coef_, lr.intercept_"
   ]
  },
  {
   "cell_type": "markdown",
   "id": "6a59f07b",
   "metadata": {
    "id": "6a59f07b"
   },
   "source": [
    "Визуализируем данные и прямую, которую выражает модель. "
   ]
  },
  {
   "cell_type": "code",
   "execution_count": 10,
   "id": "c59f47c5",
   "metadata": {
    "colab": {
     "base_uri": "https://localhost:8080/",
     "height": 278
    },
    "executionInfo": {
     "elapsed": 307,
     "status": "ok",
     "timestamp": 1656338846989,
     "user": {
      "displayName": "Татьяна Андреевна Гайнцева",
      "userId": "17554479887788199937"
     },
     "user_tz": -180
    },
    "id": "c59f47c5",
    "outputId": "d7db6cea-593e-4d91-f4de-f85993146352"
   },
   "outputs": [
    {
     "data": {
      "image/png": "[encoded data removed]",
      "text/plain": [
       "<Figure size 432x288 with 1 Axes>"
      ]
     },
     "metadata": {
      "needs_background": "light"
     },
     "output_type": "display_data"
    }
   ],
   "source": [
    "# визуализируем точки обучающей выборки\n",
    "plt.scatter(X_train, y_train)\n",
    "\n",
    "# визуализируем прямую, которую выражает линейная регрессия\n",
    "# y = k_1*x_1 + k_0\n",
    "def f_line(x):\n",
    "  return  lr.coef_*x + lr.intercept_\n",
    "\n",
    "x = [2500, 6000]\n",
    "y = f_line(x)\n",
    "plt.plot(x, y)\n",
    "\n",
    "plt.xlabel('масса тела (мм)')\n",
    "plt.ylabel('длина плавника (мм)')\n",
    "\n",
    "plt.show()"
   ]
  },
  {
   "cell_type": "markdown",
   "id": "24e4dc18",
   "metadata": {
    "id": "24e4dc18"
   },
   "source": [
    "Теперь визуализируем точки тестовой выборки и прямую, которую выражает модель:"
   ]
  },
  {
   "cell_type": "code",
   "execution_count": 11,
   "id": "bd1cf3e2",
   "metadata": {
    "colab": {
     "base_uri": "https://localhost:8080/",
     "height": 278
    },
    "executionInfo": {
     "elapsed": 417,
     "status": "ok",
     "timestamp": 1656338881052,
     "user": {
      "displayName": "Татьяна Андреевна Гайнцева",
      "userId": "17554479887788199937"
     },
     "user_tz": -180
    },
    "id": "bd1cf3e2",
    "outputId": "8f7b70d6-638b-42ae-83cc-829fb285b6fc"
   },
   "outputs": [
    {
     "data": {
      "image/png": "[encoded data removed]",
      "text/plain": [
       "<Figure size 432x288 with 1 Axes>"
      ]
     },
     "metadata": {
      "needs_background": "light"
     },
     "output_type": "display_data"
    }
   ],
   "source": [
    "# визуализируем точки тестовой выборки\n",
    "plt.scatter(X_test, y_test)\n",
    "\n",
    "# визуализируем прямую, которую выражает линейная регрессия\n",
    "def f_line(x):\n",
    "  return  lr.coef_*x + lr.intercept_\n",
    "\n",
    "x_line = np.linspace(2500, 6000, 100)\n",
    "y_line = f_line(x_line)\n",
    "plt.plot(x_line, y_line)\n",
    "\n",
    "plt.xlabel('масса тела (мм)')\n",
    "plt.ylabel('длина плавника (мм)')\n",
    "\n",
    "plt.show()"
   ]
  },
  {
   "cell_type": "markdown",
   "id": "92233e1c",
   "metadata": {
    "id": "92233e1c"
   },
   "source": [
    "Получим предсказания линейной регрессии на тренировочной и тестовой выборках:"
   ]
  },
  {
   "cell_type": "code",
   "execution_count": 12,
   "id": "b6963a27",
   "metadata": {
    "executionInfo": {
     "elapsed": 411,
     "status": "ok",
     "timestamp": 1656338936342,
     "user": {
      "displayName": "Татьяна Андреевна Гайнцева",
      "userId": "17554479887788199937"
     },
     "user_tz": -180
    },
    "id": "b6963a27"
   },
   "outputs": [],
   "source": [
    "# предсказание линейной регрессии для элементов тренировочной выборки\n",
    "y_train_predicted = lr.predict(X_train)\n",
    "# предсказание линейной регрессии для элементов тестовой выборки\n",
    "y_test_predicted = lr.predict(X_test)"
   ]
  },
  {
   "cell_type": "code",
   "execution_count": 13,
   "id": "U8KzSTKezjQR",
   "metadata": {
    "colab": {
     "base_uri": "https://localhost:8080/"
    },
    "executionInfo": {
     "elapsed": 255,
     "status": "ok",
     "timestamp": 1656338956643,
     "user": {
      "displayName": "Татьяна Андреевна Гайнцева",
      "userId": "17554479887788199937"
     },
     "user_tz": -180
    },
    "id": "U8KzSTKezjQR",
    "outputId": "3d232236-eb28-4734-b77a-3706705657b7"
   },
   "outputs": [
    {
     "data": {
      "text/plain": [
       "array([210., 188., 187., 230., 187., 195., 181., 213., 189., 211., 190.,\n",
       "       214., 178., 191., 216., 213., 195., 214., 191., 218., 210., 183.,\n",
       "       214., 198., 225., 194., 203., 201., 186., 230., 192., 201., 180.,\n",
       "       229., 198., 197., 190., 224., 191., 191., 193., 196., 196., 215.,\n",
       "       197., 193., 186., 228., 221., 208.])"
      ]
     },
     "execution_count": 13,
     "metadata": {},
     "output_type": "execute_result"
    }
   ],
   "source": [
    "np.array(y_test)"
   ]
  },
  {
   "cell_type": "code",
   "execution_count": 14,
   "id": "fj4-MKDfzlyk",
   "metadata": {
    "colab": {
     "base_uri": "https://localhost:8080/"
    },
    "executionInfo": {
     "elapsed": 5,
     "status": "ok",
     "timestamp": 1656338957028,
     "user": {
      "displayName": "Татьяна Андреевна Гайнцева",
      "userId": "17554479887788199937"
     },
     "user_tz": -180
    },
    "id": "fj4-MKDfzlyk",
    "outputId": "606944fb-bdff-49b5-daa2-d85e7dd0c627"
   },
   "outputs": [
    {
     "data": {
      "text/plain": [
       "array([206.08836137, 199.34004039, 194.84115974, 223.33407053,\n",
       "       188.09283877, 203.83892104, 185.46849172, 203.83892104,\n",
       "       188.09283877, 205.33854793, 193.71643958, 210.58724202,\n",
       "       186.59321189, 188.84265221, 212.83668234, 207.58798825,\n",
       "       191.84190598, 211.71196218, 186.96811861, 217.33556299,\n",
       "       210.58724202, 183.96886484, 203.83892104, 195.21606647,\n",
       "       212.83668234, 191.09209254, 208.71270841, 197.84041351,\n",
       "       194.84115974, 224.83369741, 178.34526403, 202.33929416,\n",
       "       197.09060007, 224.83369741, 193.34153286, 209.46252186,\n",
       "       196.34078663, 221.0846302 , 186.59321189, 194.84115974,\n",
       "       185.84339844, 203.83892104, 203.0891076 , 212.83668234,\n",
       "       201.96438744, 194.84115974, 191.09209254, 221.83444364,\n",
       "       219.58500332, 204.58873449])"
      ]
     },
     "execution_count": 14,
     "metadata": {},
     "output_type": "execute_result"
    }
   ],
   "source": [
    "np.array(y_test_predicted)"
   ]
  },
  {
   "cell_type": "code",
   "execution_count": 15,
   "id": "N9d5haervRJs",
   "metadata": {
    "colab": {
     "base_uri": "https://localhost:8080/",
     "height": 278
    },
    "executionInfo": {
     "elapsed": 456,
     "status": "ok",
     "timestamp": 1656339008847,
     "user": {
      "displayName": "Татьяна Андреевна Гайнцева",
      "userId": "17554479887788199937"
     },
     "user_tz": -180
    },
    "id": "N9d5haervRJs",
    "outputId": "8cbd6622-2d54-4e1b-905b-4cd081070b48"
   },
   "outputs": [
    {
     "data": {
      "image/png": "[encoded data removed]",
      "text/plain": [
       "<Figure size 432x288 with 1 Axes>"
      ]
     },
     "metadata": {
      "needs_background": "light"
     },
     "output_type": "display_data"
    }
   ],
   "source": [
    "# визуализируем точки тестовой выборки\n",
    "plt.scatter(X_test[:5], y_test[:5])\n",
    "\n",
    "# визуализируем предсказания линейной регрессии\n",
    "plt.scatter(X_test[:5], y_test_predicted[:5])\n",
    "\n",
    "# визуализируем прямую, которую выражает линейная регрессия\n",
    "def f_line(x):\n",
    "  return  lr.coef_*x + lr.intercept_\n",
    "\n",
    "x_line = np.linspace(2500, 6000, 100)\n",
    "y_line = f_line(x_line)\n",
    "plt.plot(x_line, y_line)\n",
    "\n",
    "plt.xlabel('масса тела (мм)')\n",
    "plt.ylabel('длина плавника (мм)')\n",
    "\n",
    "plt.show()"
   ]
  },
  {
   "cell_type": "markdown",
   "id": "RGd8Vns5zzO2",
   "metadata": {
    "id": "RGd8Vns5zzO2"
   },
   "source": [
    "Посчитаем метрики качества MAE и MSE для тренировочной и тестовой выборок. Мы будем использовать для этого функции из sklearn."
   ]
  },
  {
   "cell_type": "code",
   "execution_count": 16,
   "id": "pbd44ESH0ACU",
   "metadata": {
    "executionInfo": {
     "elapsed": 7,
     "status": "ok",
     "timestamp": 1656339069672,
     "user": {
      "displayName": "Татьяна Андреевна Гайнцева",
      "userId": "17554479887788199937"
     },
     "user_tz": -180
    },
    "id": "pbd44ESH0ACU"
   },
   "outputs": [],
   "source": [
    "from sklearn.metrics import mean_absolute_error, mean_squared_error"
   ]
  },
  {
   "cell_type": "code",
   "execution_count": 17,
   "id": "954ac700",
   "metadata": {
    "colab": {
     "base_uri": "https://localhost:8080/"
    },
    "executionInfo": {
     "elapsed": 6,
     "status": "ok",
     "timestamp": 1656339089851,
     "user": {
      "displayName": "Татьяна Андреевна Гайнцева",
      "userId": "17554479887788199937"
     },
     "user_tz": -180
    },
    "id": "954ac700",
    "outputId": "e3353ad3-81a2-4f58-d1a5-dd49a698db55"
   },
   "outputs": [
    {
     "data": {
      "text/plain": [
       "(5.619691985002206, 5.339035656584802)"
      ]
     },
     "execution_count": 17,
     "metadata": {},
     "output_type": "execute_result"
    }
   ],
   "source": [
    "mean_absolute_error(y_train_predicted, y_train), mean_absolute_error(y_test_predicted, y_test)"
   ]
  },
  {
   "cell_type": "code",
   "execution_count": 18,
   "id": "TUUf9pw40CT8",
   "metadata": {
    "colab": {
     "base_uri": "https://localhost:8080/"
    },
    "executionInfo": {
     "elapsed": 412,
     "status": "ok",
     "timestamp": 1656339128449,
     "user": {
      "displayName": "Татьяна Андреевна Гайнцева",
      "userId": "17554479887788199937"
     },
     "user_tz": -180
    },
    "id": "TUUf9pw40CT8",
    "outputId": "c42dd7e6-7ad9-43a5-e4da-ab333c754e85"
   },
   "outputs": [
    {
     "data": {
      "text/plain": [
       "5.619691985002206"
      ]
     },
     "execution_count": 18,
     "metadata": {},
     "output_type": "execute_result"
    }
   ],
   "source": [
    "np.mean(np.abs(y_train_predicted - y_train))"
   ]
  },
  {
   "cell_type": "code",
   "execution_count": 19,
   "id": "dd98287b",
   "metadata": {
    "colab": {
     "base_uri": "https://localhost:8080/"
    },
    "executionInfo": {
     "elapsed": 7,
     "status": "ok",
     "timestamp": 1656339146064,
     "user": {
      "displayName": "Татьяна Андреевна Гайнцева",
      "userId": "17554479887788199937"
     },
     "user_tz": -180
    },
    "id": "dd98287b",
    "outputId": "9e045050-4323-4388-a181-88e2fc02cc10"
   },
   "outputs": [
    {
     "data": {
      "text/plain": [
       "(47.47941814232244, 41.760549305795955)"
      ]
     },
     "execution_count": 19,
     "metadata": {},
     "output_type": "execute_result"
    }
   ],
   "source": [
    "mean_squared_error(y_train_predicted, y_train), mean_squared_error(y_test_predicted, y_test)"
   ]
  },
  {
   "cell_type": "code",
   "execution_count": 20,
   "id": "ftODhw5d0J7e",
   "metadata": {
    "colab": {
     "base_uri": "https://localhost:8080/"
    },
    "executionInfo": {
     "elapsed": 387,
     "status": "ok",
     "timestamp": 1656339175451,
     "user": {
      "displayName": "Татьяна Андреевна Гайнцева",
      "userId": "17554479887788199937"
     },
     "user_tz": -180
    },
    "id": "ftODhw5d0J7e",
    "outputId": "65b0d20e-feb0-4de9-869e-9484860e2530"
   },
   "outputs": [
    {
     "data": {
      "text/plain": [
       "47.47941814232244"
      ]
     },
     "execution_count": 20,
     "metadata": {},
     "output_type": "execute_result"
    }
   ],
   "source": [
    "np.mean((y_train_predicted - y_train)**2)"
   ]
  },
  {
   "cell_type": "markdown",
   "id": "N_YVoGsQ2ee8",
   "metadata": {
    "id": "N_YVoGsQ2ee8"
   },
   "source": [
    "## Задача 2. Предсказание длины плавника по массе тела и длине клюва"
   ]
  },
  {
   "cell_type": "markdown",
   "id": "_zuqS5F_2smo",
   "metadata": {
    "id": "_zuqS5F_2smo"
   },
   "source": [
    "Посмотрим снова на наши данные:"
   ]
  },
  {
   "cell_type": "code",
   "execution_count": 1,
   "id": "a22PD4OD2vqU",
   "metadata": {
    "id": "a22PD4OD2vqU"
   },
   "outputs": [
    {
     "data": {
      "text/html": [
       "<div>\n",
       "<style scoped>\n",
       "    .dataframe tbody tr th:only-of-type {\n",
       "        vertical-align: middle;\n",
       "    }\n",
       "\n",
       "    .dataframe tbody tr th {\n",
       "        vertical-align: top;\n",
       "    }\n",
       "\n",
       "    .dataframe thead th {\n",
       "        text-align: right;\n",
       "    }\n",
       "</style>\n",
       "<table border=\"1\" class=\"dataframe\">\n",
       "  <thead>\n",
       "    <tr style=\"text-align: right;\">\n",
       "      <th></th>\n",
       "      <th>species</th>\n",
       "      <th>island</th>\n",
       "      <th>bill_length_mm</th>\n",
       "      <th>bill_depth_mm</th>\n",
       "      <th>flipper_length_mm</th>\n",
       "      <th>body_mass_g</th>\n",
       "      <th>sex</th>\n",
       "    </tr>\n",
       "  </thead>\n",
       "  <tbody>\n",
       "    <tr>\n",
       "      <th>0</th>\n",
       "      <td>Adelie</td>\n",
       "      <td>Torgersen</td>\n",
       "      <td>39.1</td>\n",
       "      <td>18.7</td>\n",
       "      <td>181.0</td>\n",
       "      <td>3750.0</td>\n",
       "      <td>Male</td>\n",
       "    </tr>\n",
       "    <tr>\n",
       "      <th>1</th>\n",
       "      <td>Adelie</td>\n",
       "      <td>Torgersen</td>\n",
       "      <td>39.5</td>\n",
       "      <td>17.4</td>\n",
       "      <td>186.0</td>\n",
       "      <td>3800.0</td>\n",
       "      <td>Female</td>\n",
       "    </tr>\n",
       "    <tr>\n",
       "      <th>2</th>\n",
       "      <td>Adelie</td>\n",
       "      <td>Torgersen</td>\n",
       "      <td>40.3</td>\n",
       "      <td>18.0</td>\n",
       "      <td>195.0</td>\n",
       "      <td>3250.0</td>\n",
       "      <td>Female</td>\n",
       "    </tr>\n",
       "    <tr>\n",
       "      <th>4</th>\n",
       "      <td>Adelie</td>\n",
       "      <td>Torgersen</td>\n",
       "      <td>36.7</td>\n",
       "      <td>19.3</td>\n",
       "      <td>193.0</td>\n",
       "      <td>3450.0</td>\n",
       "      <td>Female</td>\n",
       "    </tr>\n",
       "    <tr>\n",
       "      <th>5</th>\n",
       "      <td>Adelie</td>\n",
       "      <td>Torgersen</td>\n",
       "      <td>39.3</td>\n",
       "      <td>20.6</td>\n",
       "      <td>190.0</td>\n",
       "      <td>3650.0</td>\n",
       "      <td>Male</td>\n",
       "    </tr>\n",
       "  </tbody>\n",
       "</table>\n",
       "</div>"
      ],
      "text/plain": [
       "  species     island  bill_length_mm  ...  flipper_length_mm  body_mass_g     sex\n",
       "0  Adelie  Torgersen            39.1  ...              181.0       3750.0    Male\n",
       "1  Adelie  Torgersen            39.5  ...              186.0       3800.0  Female\n",
       "2  Adelie  Torgersen            40.3  ...              195.0       3250.0  Female\n",
       "4  Adelie  Torgersen            36.7  ...              193.0       3450.0  Female\n",
       "5  Adelie  Torgersen            39.3  ...              190.0       3650.0    Male\n",
       "\n",
       "[5 rows x 7 columns]"
      ]
     },
     "execution_count": 1,
     "metadata": {},
     "output_type": "execute_result"
    }
   ],
   "source": [
    "import seaborn as sns\n",
    "data = sns.load_dataset('penguins').dropna(axis=0, how='any')\n",
    "data.head()"
   ]
  },
  {
   "cell_type": "markdown",
   "id": "4hokArfx2wdp",
   "metadata": {
    "id": "4hokArfx2wdp"
   },
   "source": [
    "Запишем в переменную Х признаки, по которым мы будем предсказывать ответ ('масса тела', 'длина клюва'), а в переменную y — целевую переменную ('длина плавника'):"
   ]
  },
  {
   "cell_type": "code",
   "execution_count": 2,
   "id": "WAKmRLkM22Tr",
   "metadata": {
    "id": "WAKmRLkM22Tr"
   },
   "outputs": [],
   "source": [
    "X = data[['body_mass_g', 'bill_length_mm']]\n",
    "y = data['flipper_length_mm']"
   ]
  },
  {
   "cell_type": "markdown",
   "id": "_lqnAYrp3pqn",
   "metadata": {
    "id": "_lqnAYrp3pqn"
   },
   "source": [
    "Также поделим данные на тренировочную и тестовую выборки:"
   ]
  },
  {
   "cell_type": "code",
   "execution_count": 3,
   "id": "BlbmKf2S3s9H",
   "metadata": {
    "id": "BlbmKf2S3s9H"
   },
   "outputs": [],
   "source": [
    "from sklearn.model_selection import train_test_split\n",
    "\n",
    "X_train, X_test, y_train, y_test = train_test_split(X, y, test_size=0.15)"
   ]
  },
  {
   "cell_type": "markdown",
   "id": "7zDeZf-n3Qvd",
   "metadata": {
    "id": "7zDeZf-n3Qvd"
   },
   "source": [
    "Визуализируем данные в виде точек в трехмерном пространстве. По оси ОХ отложим значение признака \"масса тела\", по оси OY — значение признака \"длина клюва\", по оси OZ — ответ, т.е. значение переменной \"длина плавника\"."
   ]
  },
  {
   "cell_type": "code",
   "execution_count": 5,
   "id": "wuru7ivF3Mpv",
   "metadata": {
    "id": "wuru7ivF3Mpv"
   },
   "outputs": [
    {
     "data": {
      "image/png": "[encoded data removed]",
      "text/plain": [
       "<Figure size 700x700 with 1 Axes>"
      ]
     },
     "metadata": {},
     "output_type": "display_data"
    }
   ],
   "source": [
    "%matplotlib inline\n",
    "import matplotlib.pyplot as plt\n",
    "# если вы работаете не в google colab, а в jupyter notebook локально,\n",
    "# замените строчку выше на эту:\n",
    "# %matplotlib notebook\n",
    "# тогда можно будет 3D-график поворачивать и рассматривать с разных сторон\n",
    "\n",
    "fig = plt.figure(figsize=(7, 7))\n",
    "ax = fig.add_subplot(projection='3d')\n",
    "\n",
    "# визуализируем точки обучающей выборки\n",
    "x_points = X_train['body_mass_g']\n",
    "y_points = X_train['bill_length_mm']\n",
    "z_points = y_train\n",
    "\n",
    "ax.scatter(x_points, y_points, z_points)\n",
    "\n",
    "ax.set_xlabel('масса тела');\n",
    "ax.set_ylabel('длина клюва');\n",
    "ax.set_zlabel('длина плавника');\n",
    "\n",
    "plt.show()"
   ]
  },
  {
   "cell_type": "markdown",
   "id": "iWxDwraT4ZCz",
   "metadata": {
    "id": "iWxDwraT4ZCz"
   },
   "source": [
    "Обучим модель линейной регрессии.\n",
    "\n",
    "Здесь нам уже не нужно делать expand_dims для X_train, потому что он и так двумерный: в нем каждый элемент — это массив значений двух признаков."
   ]
  },
  {
   "cell_type": "code",
   "execution_count": 7,
   "id": "E6v39Yci4Yj5",
   "metadata": {
    "id": "E6v39Yci4Yj5"
   },
   "outputs": [
    {
     "data": {
      "text/html": [
       "<style>#sk-container-id-1 {\n",
       "  /* Definition of color scheme common for light and dark mode */\n",
       "  --sklearn-color-text: black;\n",
       "  --sklearn-color-line: gray;\n",
       "  /* Definition of color scheme for unfitted estimators */\n",
       "  --sklearn-color-unfitted-level-0: #fff5e6;\n",
       "  --sklearn-color-unfitted-level-1: #f6e4d2;\n",
       "  --sklearn-color-unfitted-level-2: #ffe0b3;\n",
       "  --sklearn-color-unfitted-level-3: chocolate;\n",
       "  /* Definition of color scheme for fitted estimators */\n",
       "  --sklearn-color-fitted-level-0: #f0f8ff;\n",
       "  --sklearn-color-fitted-level-1: #d4ebff;\n",
       "  --sklearn-color-fitted-level-2: #b3dbfd;\n",
       "  --sklearn-color-fitted-level-3: cornflowerblue;\n",
       "\n",
       "  /* Specific color for light theme */\n",
       "  --sklearn-color-text-on-default-background: var(--sg-text-color, var(--theme-code-foreground, var(--jp-content-font-color1, black)));\n",
       "  --sklearn-color-background: var(--sg-background-color, var(--theme-background, var(--jp-layout-color0, white)));\n",
       "  --sklearn-color-border-box: var(--sg-text-color, var(--theme-code-foreground, var(--jp-content-font-color1, black)));\n",
       "  --sklearn-color-icon: #696969;\n",
       "\n",
       "  @media (prefers-color-scheme: dark) {\n",
       "    /* Redefinition of color scheme for dark theme */\n",
       "    --sklearn-color-text-on-default-background: var(--sg-text-color, var(--theme-code-foreground, var(--jp-content-font-color1, white)));\n",
       "    --sklearn-color-background: var(--sg-background-color, var(--theme-background, var(--jp-layout-color0, #111)));\n",
       "    --sklearn-color-border-box: var(--sg-text-color, var(--theme-code-foreground, var(--jp-content-font-color1, white)));\n",
       "    --sklearn-color-icon: #878787;\n",
       "  }\n",
       "}\n",
       "\n",
       "#sk-container-id-1 {\n",
       "  color: var(--sklearn-color-text);\n",
       "}\n",
       "\n",
       "#sk-container-id-1 pre {\n",
       "  padding: 0;\n",
       "}\n",
       "\n",
       "#sk-container-id-1 input.sk-hidden--visually {\n",
       "  border: 0;\n",
       "  clip: rect(1px 1px 1px 1px);\n",
       "  clip: rect(1px, 1px, 1px, 1px);\n",
       "  height: 1px;\n",
       "  margin: -1px;\n",
       "  overflow: hidden;\n",
       "  padding: 0;\n",
       "  position: absolute;\n",
       "  width: 1px;\n",
       "}\n",
       "\n",
       "#sk-container-id-1 div.sk-dashed-wrapped {\n",
       "  border: 1px dashed var(--sklearn-color-line);\n",
       "  margin: 0 0.4em 0.5em 0.4em;\n",
       "  box-sizing: border-box;\n",
       "  padding-bottom: 0.4em;\n",
       "  background-color: var(--sklearn-color-background);\n",
       "}\n",
       "\n",
       "#sk-container-id-1 div.sk-container {\n",
       "  /* jupyter's `normalize.less` sets `[hidden] { display: none; }`\n",
       "     but bootstrap.min.css set `[hidden] { display: none !important; }`\n",
       "     so we also need the `!important` here to be able to override the\n",
       "     default hidden behavior on the sphinx rendered scikit-learn.org.\n",
       "     See: https://github.com/scikit-learn/scikit-learn/issues/21755 */\n",
       "  display: inline-block !important;\n",
       "  position: relative;\n",
       "}\n",
       "\n",
       "#sk-container-id-1 div.sk-text-repr-fallback {\n",
       "  display: none;\n",
       "}\n",
       "\n",
       "div.sk-parallel-item,\n",
       "div.sk-serial,\n",
       "div.sk-item {\n",
       "  /* draw centered vertical line to link estimators */\n",
       "  background-image: linear-gradient(var(--sklearn-color-text-on-default-background), var(--sklearn-color-text-on-default-background));\n",
       "  background-size: 2px 100%;\n",
       "  background-repeat: no-repeat;\n",
       "  background-position: center center;\n",
       "}\n",
       "\n",
       "/* Parallel-specific style estimator block */\n",
       "\n",
       "#sk-container-id-1 div.sk-parallel-item::after {\n",
       "  content: \"\";\n",
       "  width: 100%;\n",
       "  border-bottom: 2px solid var(--sklearn-color-text-on-default-background);\n",
       "  flex-grow: 1;\n",
       "}\n",
       "\n",
       "#sk-container-id-1 div.sk-parallel {\n",
       "  display: flex;\n",
       "  align-items: stretch;\n",
       "  justify-content: center;\n",
       "  background-color: var(--sklearn-color-background);\n",
       "  position: relative;\n",
       "}\n",
       "\n",
       "#sk-container-id-1 div.sk-parallel-item {\n",
       "  display: flex;\n",
       "  flex-direction: column;\n",
       "}\n",
       "\n",
       "#sk-container-id-1 div.sk-parallel-item:first-child::after {\n",
       "  align-self: flex-end;\n",
       "  width: 50%;\n",
       "}\n",
       "\n",
       "#sk-container-id-1 div.sk-parallel-item:last-child::after {\n",
       "  align-self: flex-start;\n",
       "  width: 50%;\n",
       "}\n",
       "\n",
       "#sk-container-id-1 div.sk-parallel-item:only-child::after {\n",
       "  width: 0;\n",
       "}\n",
       "\n",
       "/* Serial-specific style estimator block */\n",
       "\n",
       "#sk-container-id-1 div.sk-serial {\n",
       "  display: flex;\n",
       "  flex-direction: column;\n",
       "  align-items: center;\n",
       "  background-color: var(--sklearn-color-background);\n",
       "  padding-right: 1em;\n",
       "  padding-left: 1em;\n",
       "}\n",
       "\n",
       "\n",
       "/* Toggleable style: style used for estimator/Pipeline/ColumnTransformer box that is\n",
       "clickable and can be expanded/collapsed.\n",
       "- Pipeline and ColumnTransformer use this feature and define the default style\n",
       "- Estimators will overwrite some part of the style using the `sk-estimator` class\n",
       "*/\n",
       "\n",
       "/* Pipeline and ColumnTransformer style (default) */\n",
       "\n",
       "#sk-container-id-1 div.sk-toggleable {\n",
       "  /* Default theme specific background. It is overwritten whether we have a\n",
       "  specific estimator or a Pipeline/ColumnTransformer */\n",
       "  background-color: var(--sklearn-color-background);\n",
       "}\n",
       "\n",
       "/* Toggleable label */\n",
       "#sk-container-id-1 label.sk-toggleable__label {\n",
       "  cursor: pointer;\n",
       "  display: block;\n",
       "  width: 100%;\n",
       "  margin-bottom: 0;\n",
       "  padding: 0.5em;\n",
       "  box-sizing: border-box;\n",
       "  text-align: center;\n",
       "}\n",
       "\n",
       "#sk-container-id-1 label.sk-toggleable__label-arrow:before {\n",
       "  /* Arrow on the left of the label */\n",
       "  content: \"▸\";\n",
       "  float: left;\n",
       "  margin-right: 0.25em;\n",
       "  color: var(--sklearn-color-icon);\n",
       "}\n",
       "\n",
       "#sk-container-id-1 label.sk-toggleable__label-arrow:hover:before {\n",
       "  color: var(--sklearn-color-text);\n",
       "}\n",
       "\n",
       "/* Toggleable content - dropdown */\n",
       "\n",
       "#sk-container-id-1 div.sk-toggleable__content {\n",
       "  max-height: 0;\n",
       "  max-width: 0;\n",
       "  overflow: hidden;\n",
       "  text-align: left;\n",
       "  /* unfitted */\n",
       "  background-color: var(--sklearn-color-unfitted-level-0);\n",
       "}\n",
       "\n",
       "#sk-container-id-1 div.sk-toggleable__content.fitted {\n",
       "  /* fitted */\n",
       "  background-color: var(--sklearn-color-fitted-level-0);\n",
       "}\n",
       "\n",
       "#sk-container-id-1 div.sk-toggleable__content pre {\n",
       "  margin: 0.2em;\n",
       "  border-radius: 0.25em;\n",
       "  color: var(--sklearn-color-text);\n",
       "  /* unfitted */\n",
       "  background-color: var(--sklearn-color-unfitted-level-0);\n",
       "}\n",
       "\n",
       "#sk-container-id-1 div.sk-toggleable__content.fitted pre {\n",
       "  /* unfitted */\n",
       "  background-color: var(--sklearn-color-fitted-level-0);\n",
       "}\n",
       "\n",
       "#sk-container-id-1 input.sk-toggleable__control:checked~div.sk-toggleable__content {\n",
       "  /* Expand drop-down */\n",
       "  max-height: 200px;\n",
       "  max-width: 100%;\n",
       "  overflow: auto;\n",
       "}\n",
       "\n",
       "#sk-container-id-1 input.sk-toggleable__control:checked~label.sk-toggleable__label-arrow:before {\n",
       "  content: \"▾\";\n",
       "}\n",
       "\n",
       "/* Pipeline/ColumnTransformer-specific style */\n",
       "\n",
       "#sk-container-id-1 div.sk-label input.sk-toggleable__control:checked~label.sk-toggleable__label {\n",
       "  color: var(--sklearn-color-text);\n",
       "  background-color: var(--sklearn-color-unfitted-level-2);\n",
       "}\n",
       "\n",
       "#sk-container-id-1 div.sk-label.fitted input.sk-toggleable__control:checked~label.sk-toggleable__label {\n",
       "  background-color: var(--sklearn-color-fitted-level-2);\n",
       "}\n",
       "\n",
       "/* Estimator-specific style */\n",
       "\n",
       "/* Colorize estimator box */\n",
       "#sk-container-id-1 div.sk-estimator input.sk-toggleable__control:checked~label.sk-toggleable__label {\n",
       "  /* unfitted */\n",
       "  background-color: var(--sklearn-color-unfitted-level-2);\n",
       "}\n",
       "\n",
       "#sk-container-id-1 div.sk-estimator.fitted input.sk-toggleable__control:checked~label.sk-toggleable__label {\n",
       "  /* fitted */\n",
       "  background-color: var(--sklearn-color-fitted-level-2);\n",
       "}\n",
       "\n",
       "#sk-container-id-1 div.sk-label label.sk-toggleable__label,\n",
       "#sk-container-id-1 div.sk-label label {\n",
       "  /* The background is the default theme color */\n",
       "  color: var(--sklearn-color-text-on-default-background);\n",
       "}\n",
       "\n",
       "/* On hover, darken the color of the background */\n",
       "#sk-container-id-1 div.sk-label:hover label.sk-toggleable__label {\n",
       "  color: var(--sklearn-color-text);\n",
       "  background-color: var(--sklearn-color-unfitted-level-2);\n",
       "}\n",
       "\n",
       "/* Label box, darken color on hover, fitted */\n",
       "#sk-container-id-1 div.sk-label.fitted:hover label.sk-toggleable__label.fitted {\n",
       "  color: var(--sklearn-color-text);\n",
       "  background-color: var(--sklearn-color-fitted-level-2);\n",
       "}\n",
       "\n",
       "/* Estimator label */\n",
       "\n",
       "#sk-container-id-1 div.sk-label label {\n",
       "  font-family: monospace;\n",
       "  font-weight: bold;\n",
       "  display: inline-block;\n",
       "  line-height: 1.2em;\n",
       "}\n",
       "\n",
       "#sk-container-id-1 div.sk-label-container {\n",
       "  text-align: center;\n",
       "}\n",
       "\n",
       "/* Estimator-specific */\n",
       "#sk-container-id-1 div.sk-estimator {\n",
       "  font-family: monospace;\n",
       "  border: 1px dotted var(--sklearn-color-border-box);\n",
       "  border-radius: 0.25em;\n",
       "  box-sizing: border-box;\n",
       "  margin-bottom: 0.5em;\n",
       "  /* unfitted */\n",
       "  background-color: var(--sklearn-color-unfitted-level-0);\n",
       "}\n",
       "\n",
       "#sk-container-id-1 div.sk-estimator.fitted {\n",
       "  /* fitted */\n",
       "  background-color: var(--sklearn-color-fitted-level-0);\n",
       "}\n",
       "\n",
       "/* on hover */\n",
       "#sk-container-id-1 div.sk-estimator:hover {\n",
       "  /* unfitted */\n",
       "  background-color: var(--sklearn-color-unfitted-level-2);\n",
       "}\n",
       "\n",
       "#sk-container-id-1 div.sk-estimator.fitted:hover {\n",
       "  /* fitted */\n",
       "  background-color: var(--sklearn-color-fitted-level-2);\n",
       "}\n",
       "\n",
       "/* Specification for estimator info (e.g. \"i\" and \"?\") */\n",
       "\n",
       "/* Common style for \"i\" and \"?\" */\n",
       "\n",
       ".sk-estimator-doc-link,\n",
       "a:link.sk-estimator-doc-link,\n",
       "a:visited.sk-estimator-doc-link {\n",
       "  float: right;\n",
       "  font-size: smaller;\n",
       "  line-height: 1em;\n",
       "  font-family: monospace;\n",
       "  background-color: var(--sklearn-color-background);\n",
       "  border-radius: 1em;\n",
       "  height: 1em;\n",
       "  width: 1em;\n",
       "  text-decoration: none !important;\n",
       "  margin-left: 1ex;\n",
       "  /* unfitted */\n",
       "  border: var(--sklearn-color-unfitted-level-1) 1pt solid;\n",
       "  color: var(--sklearn-color-unfitted-level-1);\n",
       "}\n",
       "\n",
       ".sk-estimator-doc-link.fitted,\n",
       "a:link.sk-estimator-doc-link.fitted,\n",
       "a:visited.sk-estimator-doc-link.fitted {\n",
       "  /* fitted */\n",
       "  border: var(--sklearn-color-fitted-level-1) 1pt solid;\n",
       "  color: var(--sklearn-color-fitted-level-1);\n",
       "}\n",
       "\n",
       "/* On hover */\n",
       "div.sk-estimator:hover .sk-estimator-doc-link:hover,\n",
       ".sk-estimator-doc-link:hover,\n",
       "div.sk-label-container:hover .sk-estimator-doc-link:hover,\n",
       ".sk-estimator-doc-link:hover {\n",
       "  /* unfitted */\n",
       "  background-color: var(--sklearn-color-unfitted-level-3);\n",
       "  color: var(--sklearn-color-background);\n",
       "  text-decoration: none;\n",
       "}\n",
       "\n",
       "div.sk-estimator.fitted:hover .sk-estimator-doc-link.fitted:hover,\n",
       ".sk-estimator-doc-link.fitted:hover,\n",
       "div.sk-label-container:hover .sk-estimator-doc-link.fitted:hover,\n",
       ".sk-estimator-doc-link.fitted:hover {\n",
       "  /* fitted */\n",
       "  background-color: var(--sklearn-color-fitted-level-3);\n",
       "  color: var(--sklearn-color-background);\n",
       "  text-decoration: none;\n",
       "}\n",
       "\n",
       "/* Span, style for the box shown on hovering the info icon */\n",
       ".sk-estimator-doc-link span {\n",
       "  display: none;\n",
       "  z-index: 9999;\n",
       "  position: relative;\n",
       "  font-weight: normal;\n",
       "  right: .2ex;\n",
       "  padding: .5ex;\n",
       "  margin: .5ex;\n",
       "  width: min-content;\n",
       "  min-width: 20ex;\n",
       "  max-width: 50ex;\n",
       "  color: var(--sklearn-color-text);\n",
       "  box-shadow: 2pt 2pt 4pt #999;\n",
       "  /* unfitted */\n",
       "  background: var(--sklearn-color-unfitted-level-0);\n",
       "  border: .5pt solid var(--sklearn-color-unfitted-level-3);\n",
       "}\n",
       "\n",
       ".sk-estimator-doc-link.fitted span {\n",
       "  /* fitted */\n",
       "  background: var(--sklearn-color-fitted-level-0);\n",
       "  border: var(--sklearn-color-fitted-level-3);\n",
       "}\n",
       "\n",
       ".sk-estimator-doc-link:hover span {\n",
       "  display: block;\n",
       "}\n",
       "\n",
       "/* \"?\"-specific style due to the `<a>` HTML tag */\n",
       "\n",
       "#sk-container-id-1 a.estimator_doc_link {\n",
       "  float: right;\n",
       "  font-size: 1rem;\n",
       "  line-height: 1em;\n",
       "  font-family: monospace;\n",
       "  background-color: var(--sklearn-color-background);\n",
       "  border-radius: 1rem;\n",
       "  height: 1rem;\n",
       "  width: 1rem;\n",
       "  text-decoration: none;\n",
       "  /* unfitted */\n",
       "  color: var(--sklearn-color-unfitted-level-1);\n",
       "  border: var(--sklearn-color-unfitted-level-1) 1pt solid;\n",
       "}\n",
       "\n",
       "#sk-container-id-1 a.estimator_doc_link.fitted {\n",
       "  /* fitted */\n",
       "  border: var(--sklearn-color-fitted-level-1) 1pt solid;\n",
       "  color: var(--sklearn-color-fitted-level-1);\n",
       "}\n",
       "\n",
       "/* On hover */\n",
       "#sk-container-id-1 a.estimator_doc_link:hover {\n",
       "  /* unfitted */\n",
       "  background-color: var(--sklearn-color-unfitted-level-3);\n",
       "  color: var(--sklearn-color-background);\n",
       "  text-decoration: none;\n",
       "}\n",
       "\n",
       "#sk-container-id-1 a.estimator_doc_link.fitted:hover {\n",
       "  /* fitted */\n",
       "  background-color: var(--sklearn-color-fitted-level-3);\n",
       "}\n",
       "</style><div id=\"sk-container-id-1\" class=\"sk-top-container\"><div class=\"sk-text-repr-fallback\"><pre>LinearRegression()</pre><b>In a Jupyter environment, please rerun this cell to show the HTML representation or trust the notebook. <br />On GitHub, the HTML representation is unable to render, please try loading this page with nbviewer.org.</b></div><div class=\"sk-container\" hidden><div class=\"sk-item\"><div class=\"sk-estimator fitted sk-toggleable\"><input class=\"sk-toggleable__control sk-hidden--visually\" id=\"sk-estimator-id-1\" type=\"checkbox\" checked><label for=\"sk-estimator-id-1\" class=\"sk-toggleable__label fitted sk-toggleable__label-arrow fitted\">&nbsp;&nbsp;LinearRegression<a class=\"sk-estimator-doc-link fitted\" rel=\"noreferrer\" target=\"_blank\" href=\"https://scikit-learn.org/1.4/modules/generated/sklearn.linear_model.LinearRegression.html\">?<span>Documentation for LinearRegression</span></a><span class=\"sk-estimator-doc-link fitted\">i<span>Fitted</span></span></label><div class=\"sk-toggleable__content fitted\"><pre>LinearRegression()</pre></div> </div></div></div></div>"
      ],
      "text/plain": [
       "LinearRegression()"
      ]
     },
     "execution_count": 7,
     "metadata": {},
     "output_type": "execute_result"
    }
   ],
   "source": [
    "from sklearn.linear_model import LinearRegression\n",
    "lr = LinearRegression()\n",
    "lr.fit(X_train, y_train)"
   ]
  },
  {
   "cell_type": "markdown",
   "id": "UaUehP4G4c-J",
   "metadata": {
    "id": "UaUehP4G4c-J"
   },
   "source": [
    "Получим предсказания:"
   ]
  },
  {
   "cell_type": "code",
   "execution_count": 8,
   "id": "EplaXK6G4rHN",
   "metadata": {
    "id": "EplaXK6G4rHN"
   },
   "outputs": [
    {
     "data": {
      "text/plain": [
       "array([201.77847834, 211.85306365, 208.52420889, 186.24593209,\n",
       "       191.09949507, 193.58068537, 193.30154923, 195.93738066,\n",
       "       204.29614263, 195.42251456, 212.70705597, 187.24039898,\n",
       "       185.50980475, 204.2816739 , 218.13517297, 186.34902617,\n",
       "       199.02327109, 218.80528454, 214.62243746, 226.61210208,\n",
       "       192.75593267, 181.79781326, 187.96929196, 219.10009807,\n",
       "       185.40671066, 196.46099196, 189.94345485, 187.59399392,\n",
       "       200.14283733, 203.92144893, 222.45819245, 192.35802504,\n",
       "       198.73599409, 201.47612828, 186.8204861 , 193.02120442,\n",
       "       181.13493605, 203.03761265, 199.23760014, 196.32835609,\n",
       "       217.38397257, 188.48506456, 212.41284677, 193.68408163,\n",
       "       197.3668335 , 209.36373248, 224.38050613, 211.35959847,\n",
       "       211.94892337, 209.59162375, 207.3600278 , 214.63690618,\n",
       "       195.96692245, 201.08575718, 186.03974391, 198.12496609,\n",
       "       204.2747417 , 188.35996522, 193.86856671, 186.62906882,\n",
       "       190.39984172, 198.72152536, 226.47946621, 223.13584055,\n",
       "       191.65204383, 185.5465809 , 192.77824009, 213.00940604,\n",
       "       195.31942047, 206.63143699, 182.42391431, 227.79768409,\n",
       "       209.67331691, 209.71732743, 210.674716  , 205.68158495,\n",
       "       206.46925933, 221.65544501, 191.26860493, 200.84309502,\n",
       "       183.32975585, 215.68292012, 189.78127719, 212.33175794,\n",
       "       189.65587568, 191.44585565, 184.05141446, 197.23419762,\n",
       "       223.34202873, 191.2541362 , 183.17511471, 198.01493981,\n",
       "       211.55101575, 186.17237979, 201.6377016 , 194.81088223,\n",
       "       203.01500306, 189.57448468, 191.13657339, 198.81708292,\n",
       "       200.60736506, 201.57922236, 190.20119007, 193.92765029,\n",
       "       208.9438196 , 203.72279728, 195.12016449, 206.81561991,\n",
       "       195.87136489, 183.32221932, 189.01500373, 197.83075689,\n",
       "       202.98546127, 202.3153497 , 204.47399768, 189.72973015,\n",
       "       224.10830219, 205.77714251, 185.28161132, 222.48019771,\n",
       "       221.60389796, 222.50220297, 215.15991315, 181.64317213,\n",
       "       196.92491536, 195.3112796 , 230.70692813, 203.11809715,\n",
       "       200.83555849, 218.07608939, 191.77714317, 200.85032939,\n",
       "       193.41217985, 203.63417192, 198.97986492, 210.57162192,\n",
       "       207.79501374, 182.99846833, 190.11256471, 206.06472168,\n",
       "       202.75033565, 192.90394377, 190.00977279, 188.10223   ,\n",
       "       190.51047233, 206.10149783, 206.38123831, 205.30598475,\n",
       "       209.87890075, 198.18404967, 179.0582834 , 220.58742581,\n",
       "       196.89537357, 188.02114117, 190.16411175, 200.09189462,\n",
       "       186.58475614, 197.43978146, 182.9761609 , 214.56335388,\n",
       "       204.48876858, 194.5757566 , 187.71909327, 191.45278785,\n",
       "       203.449989  , 212.93585374, 224.92551836, 191.84346111,\n",
       "       223.91658274, 193.78687355, 191.858232  , 220.28568008,\n",
       "       207.84686296, 223.23893464, 215.05681906, 179.76547329,\n",
       "       201.54153971, 221.39770979, 211.0503162 , 192.50573398,\n",
       "       192.98473044, 214.38670749, 221.39017326, 218.2162618 ,\n",
       "       182.85769159, 209.30495108, 221.52280913, 201.99913525,\n",
       "       192.32155106, 194.70085594, 186.82802263, 187.61630135,\n",
       "       190.62803515, 222.4361872 , 197.68365229, 186.44518807,\n",
       "       196.96138934, 198.2651385 , 206.72006236, 182.9173795 ,\n",
       "       191.67404908, 199.28161065, 201.7338635 , 224.19632322,\n",
       "       195.56208263, 198.1837475 , 206.07888824, 224.46159497,\n",
       "       219.40184381, 192.18951952, 195.25310253, 192.88133418,\n",
       "       196.99062896, 190.72389487, 223.44512282, 198.51563935,\n",
       "       201.18885127, 195.93075063, 204.20842377, 201.59369109,\n",
       "       183.18988561, 190.17858048, 184.4785617 , 196.21832981,\n",
       "       198.45625361, 208.5829903 , 189.01500373, 198.55301984,\n",
       "       192.20398825, 208.55375068, 179.44111797, 199.13359954,\n",
       "       212.98709861, 205.04101517, 192.94795429, 189.26550458,\n",
       "       183.54287622, 204.68711805, 193.41217985, 208.39910954,\n",
       "       217.27334195, 209.80595279, 194.88503886, 206.66851531,\n",
       "       225.08709169, 188.07268821, 198.49302976, 223.34202873,\n",
       "       211.7427352 , 221.55988745, 189.11056128, 212.50116996,\n",
       "       208.21492663, 199.26623542, 210.8218206 , 186.33455745,\n",
       "       185.84109227, 195.26787343, 224.9104453 , 214.32008739,\n",
       "       232.82728913, 189.80328245, 221.7585391 , 181.36343165,\n",
       "       215.74893589, 203.96545944, 210.60870023, 207.55174725,\n",
       "       197.55764644, 212.39084151, 181.1717122 , 198.2582063 ,\n",
       "       188.35242869, 190.98886445, 200.01020146, 185.62736756,\n",
       "       202.7723409 , 194.55314701, 202.00667178, 179.38957092,\n",
       "       181.72426096, 188.47752803, 201.02004358])"
      ]
     },
     "execution_count": 8,
     "metadata": {},
     "output_type": "execute_result"
    }
   ],
   "source": [
    "y_train_predicted = lr.predict(X_train)\n",
    "\n",
    "y_train_predicted"
   ]
  },
  {
   "cell_type": "markdown",
   "id": "AbEJ_sct4uWK",
   "metadata": {
    "id": "AbEJ_sct4uWK"
   },
   "source": [
    "Теперь визуализируем плоскость, которую задает регрессия. \n",
    "\n",
    "Выведем коэффициенты, которые модель поставила в соответствие признакам. \n",
    "- coef_ — это коэффициенты $k_1$ и $k_2$, соответствующие двум признакам в нашем датасете (\"масса тела\" и \"длины клюва\")\n",
    "- intercept_ — это ксвободный член, коэффициент $k_0$"
   ]
  },
  {
   "cell_type": "code",
   "execution_count": 9,
   "id": "85GjyWUo5Fv1",
   "metadata": {
    "id": "85GjyWUo5Fv1"
   },
   "outputs": [
    {
     "data": {
      "text/plain": [
       "(array([0.01296213, 0.51547044]), 123.68438712922402)"
      ]
     },
     "execution_count": 9,
     "metadata": {},
     "output_type": "execute_result"
    }
   ],
   "source": [
    "lr.coef_, lr.intercept_"
   ]
  },
  {
   "cell_type": "markdown",
   "id": "9BIQnIoV5O2d",
   "metadata": {
    "id": "9BIQnIoV5O2d"
   },
   "source": [
    "Зададим уравнение плоскости, которую задает линейная регрессия:\n",
    "$$y = k_1 \\cdot (масса \\ тела) + k_2 \\cdot (длина \\ клюва) + k_0$$"
   ]
  },
  {
   "cell_type": "code",
   "execution_count": 10,
   "id": "RR5S8JW_5H4s",
   "metadata": {
    "id": "RR5S8JW_5H4s"
   },
   "outputs": [],
   "source": [
    "def f_plane(x1, x2):\n",
    "    return lr.coef_[0]*x1 + lr.coef_[1]*x2 + lr.intercept_\n",
    "\n",
    "# то же самое можно было записать в виде lambda-функции:\n",
    "# f_plane = lambda x1, x2: lr.coef_[0]*x1 + lr.coef_[1]*x2 + lr.intercept_"
   ]
  },
  {
   "cell_type": "markdown",
   "id": "Q1_NSOGv5kLD",
   "metadata": {
    "id": "Q1_NSOGv5kLD"
   },
   "source": [
    "Визуализируем плоскость, точки выборки и ответы линейной регрессии на точки выборки:"
   ]
  },
  {
   "cell_type": "code",
   "execution_count": 11,
   "id": "Jv4SU7Pn55CV",
   "metadata": {
    "id": "Jv4SU7Pn55CV"
   },
   "outputs": [
    {
     "data": {
      "text/plain": [
       "(32.1, 59.6)"
      ]
     },
     "execution_count": 11,
     "metadata": {},
     "output_type": "execute_result"
    }
   ],
   "source": [
    "X_train['bill_length_mm'].min(), X_train['bill_length_mm'].max()"
   ]
  },
  {
   "cell_type": "code",
   "execution_count": 16,
   "id": "mP3xYfR-5hUq",
   "metadata": {
    "id": "mP3xYfR-5hUq"
   },
   "outputs": [
    {
     "data": {
      "image/png": "[encoded data removed]",
      "text/plain": [
       "<Figure size 700x700 with 1 Axes>"
      ]
     },
     "metadata": {},
     "output_type": "display_data"
    }
   ],
   "source": [
    "%matplotlib inline\n",
    "\n",
    "# если вы работаете не в google colab, а в jupyter notebook локально,\n",
    "# замените строчку выше на эту:\n",
    "# %matplotlib notebook\n",
    "# тогда можно будет 3D-график поворачивать и рассматривать с разных сторон\n",
    "import numpy as np\n",
    "fig = plt.figure(figsize=(7, 7))\n",
    "ax = fig.add_subplot(projection='3d')\n",
    "\n",
    "# визуализируем точки обучающей выборки\n",
    "x_points = X_train['body_mass_g']\n",
    "y_points = X_train['bill_length_mm']\n",
    "z_points = y_train\n",
    "\n",
    "ax.scatter(x_points, y_points, z_points)\n",
    "\n",
    "# визуализируем плоскость\n",
    "x, y = np.meshgrid(range(2800, 6350), range(30, 61));\n",
    "z = np.array([f_plane(point_x, point_y) for point_x, point_y in zip(x, y)]);\n",
    "ax.plot_surface(x, y, z, alpha=0.2);\n",
    "\n",
    "# раскомментируйте строчку ниже, чтобы визуализировать\n",
    "# ответы линейной регрессии на плоскости\n",
    "# ax.scatter(x_points, y_points, y_train_predicted, c='r');\n",
    "\n",
    "\n",
    "ax.set_xlabel('масса тела');\n",
    "ax.set_ylabel('длина клюва');\n",
    "ax.set_zlabel('длина плавника');\n",
    "\n",
    "plt.show()"
   ]
  },
  {
   "cell_type": "markdown",
   "id": "Lo1rsrkl6KC_",
   "metadata": {
    "id": "Lo1rsrkl6KC_"
   },
   "source": [
    "Видим, что линейная регрессия неплохо описывает наши точки!"
   ]
  },
  {
   "cell_type": "markdown",
   "id": "9519cd72",
   "metadata": {
    "id": "9519cd72"
   },
   "source": [
    "## Задача 3. Предсказание массы тела по всем остальным признакам"
   ]
  },
  {
   "cell_type": "markdown",
   "id": "33a59ff0",
   "metadata": {
    "id": "33a59ff0"
   },
   "source": [
    "Наконец, давайте решим более сложную задачу: предсказние массы тела пингвина по остальным пяти его признакам из датасета."
   ]
  },
  {
   "cell_type": "code",
   "execution_count": 21,
   "id": "1757d6ef",
   "metadata": {
    "colab": {
     "base_uri": "https://localhost:8080/",
     "height": 201
    },
    "executionInfo": {
     "elapsed": 429,
     "status": "ok",
     "timestamp": 1656339600325,
     "user": {
      "displayName": "Татьяна Андреевна Гайнцева",
      "userId": "17554479887788199937"
     },
     "user_tz": -180
    },
    "id": "1757d6ef",
    "outputId": "af629389-a609-45b1-befe-4c4d06171c94"
   },
   "outputs": [
    {
     "data": {
      "text/html": [
       "\n",
       "  <div id=\"df-f7301b73-544a-4ef4-932f-67e0c53a2daa\">\n",
       "    <div class=\"colab-df-container\">\n",
       "      <div>\n",
       "<style scoped>\n",
       "    .dataframe tbody tr th:only-of-type {\n",
       "        vertical-align: middle;\n",
       "    }\n",
       "\n",
       "    .dataframe tbody tr th {\n",
       "        vertical-align: top;\n",
       "    }\n",
       "\n",
       "    .dataframe thead th {\n",
       "        text-align: right;\n",
       "    }\n",
       "</style>\n",
       "<table border=\"1\" class=\"dataframe\">\n",
       "  <thead>\n",
       "    <tr style=\"text-align: right;\">\n",
       "      <th></th>\n",
       "      <th>вид</th>\n",
       "      <th>остров</th>\n",
       "      <th>длина клюва</th>\n",
       "      <th>ширина клюва</th>\n",
       "      <th>длина плавника</th>\n",
       "      <th>масса тела</th>\n",
       "      <th>пол</th>\n",
       "    </tr>\n",
       "  </thead>\n",
       "  <tbody>\n",
       "    <tr>\n",
       "      <th>0</th>\n",
       "      <td>0</td>\n",
       "      <td>2</td>\n",
       "      <td>39.1</td>\n",
       "      <td>18.7</td>\n",
       "      <td>181.0</td>\n",
       "      <td>3750.0</td>\n",
       "      <td>1</td>\n",
       "    </tr>\n",
       "    <tr>\n",
       "      <th>1</th>\n",
       "      <td>0</td>\n",
       "      <td>2</td>\n",
       "      <td>39.5</td>\n",
       "      <td>17.4</td>\n",
       "      <td>186.0</td>\n",
       "      <td>3800.0</td>\n",
       "      <td>0</td>\n",
       "    </tr>\n",
       "    <tr>\n",
       "      <th>2</th>\n",
       "      <td>0</td>\n",
       "      <td>2</td>\n",
       "      <td>40.3</td>\n",
       "      <td>18.0</td>\n",
       "      <td>195.0</td>\n",
       "      <td>3250.0</td>\n",
       "      <td>0</td>\n",
       "    </tr>\n",
       "    <tr>\n",
       "      <th>3</th>\n",
       "      <td>0</td>\n",
       "      <td>2</td>\n",
       "      <td>36.7</td>\n",
       "      <td>19.3</td>\n",
       "      <td>193.0</td>\n",
       "      <td>3450.0</td>\n",
       "      <td>0</td>\n",
       "    </tr>\n",
       "    <tr>\n",
       "      <th>4</th>\n",
       "      <td>0</td>\n",
       "      <td>2</td>\n",
       "      <td>39.3</td>\n",
       "      <td>20.6</td>\n",
       "      <td>190.0</td>\n",
       "      <td>3650.0</td>\n",
       "      <td>1</td>\n",
       "    </tr>\n",
       "  </tbody>\n",
       "</table>\n",
       "</div>\n",
       "      <button class=\"colab-df-convert\" onclick=\"convertToInteractive('df-f7301b73-544a-4ef4-932f-67e0c53a2daa')\"\n",
       "              title=\"Convert this dataframe to an interactive table.\"\n",
       "              style=\"display:none;\">\n",
       "        \n",
       "  <svg xmlns=\"http://www.w3.org/2000/svg\" height=\"24px\"viewBox=\"0 0 24 24\"\n",
       "       width=\"24px\">\n",
       "    <path d=\"M0 0h24v24H0V0z\" fill=\"none\"/>\n",
       "    <path d=\"M18.56 5.44l.94 2.06.94-2.06 2.06-.94-2.06-.94-.94-2.06-.94 2.06-2.06.94zm-11 1L8.5 8.5l.94-2.06 2.06-.94-2.06-.94L8.5 2.5l-.94 2.06-2.06.94zm10 10l.94 2.06.94-2.06 2.06-.94-2.06-.94-.94-2.06-.94 2.06-2.06.94z\"/><path d=\"M17.41 7.96l-1.37-1.37c-.4-.4-.92-.59-1.43-.59-.52 0-1.04.2-1.43.59L10.3 9.45l-7.72 7.72c-.78.78-.78 2.05 0 2.83L4 21.41c.39.39.9.59 1.41.59.51 0 1.02-.2 1.41-.59l7.78-7.78 2.81-2.81c.8-.78.8-2.07 0-2.86zM5.41 20L4 18.59l7.72-7.72 1.47 1.35L5.41 20z\"/>\n",
       "  </svg>\n",
       "      </button>\n",
       "      \n",
       "  <style>\n",
       "    .colab-df-container {\n",
       "      display:flex;\n",
       "      flex-wrap:wrap;\n",
       "      gap: 12px;\n",
       "    }\n",
       "\n",
       "    .colab-df-convert {\n",
       "      background-color: #E8F0FE;\n",
       "      border: none;\n",
       "      border-radius: 50%;\n",
       "      cursor: pointer;\n",
       "      display: none;\n",
       "      fill: #1967D2;\n",
       "      height: 32px;\n",
       "      padding: 0 0 0 0;\n",
       "      width: 32px;\n",
       "    }\n",
       "\n",
       "    .colab-df-convert:hover {\n",
       "      background-color: #E2EBFA;\n",
       "      box-shadow: 0px 1px 2px rgba(60, 64, 67, 0.3), 0px 1px 3px 1px rgba(60, 64, 67, 0.15);\n",
       "      fill: #174EA6;\n",
       "    }\n",
       "\n",
       "    [theme=dark] .colab-df-convert {\n",
       "      background-color: #3B4455;\n",
       "      fill: #D2E3FC;\n",
       "    }\n",
       "\n",
       "    [theme=dark] .colab-df-convert:hover {\n",
       "      background-color: #434B5C;\n",
       "      box-shadow: 0px 1px 3px 1px rgba(0, 0, 0, 0.15);\n",
       "      filter: drop-shadow(0px 1px 2px rgba(0, 0, 0, 0.3));\n",
       "      fill: #FFFFFF;\n",
       "    }\n",
       "  </style>\n",
       "\n",
       "      <script>\n",
       "        const buttonEl =\n",
       "          document.querySelector('#df-f7301b73-544a-4ef4-932f-67e0c53a2daa button.colab-df-convert');\n",
       "        buttonEl.style.display =\n",
       "          google.colab.kernel.accessAllowed ? 'block' : 'none';\n",
       "\n",
       "        async function convertToInteractive(key) {\n",
       "          const element = document.querySelector('#df-f7301b73-544a-4ef4-932f-67e0c53a2daa');\n",
       "          const dataTable =\n",
       "            await google.colab.kernel.invokeFunction('convertToInteractive',\n",
       "                                                     [key], {});\n",
       "          if (!dataTable) return;\n",
       "\n",
       "          const docLinkHtml = 'Like what you see? Visit the ' +\n",
       "            '<a target=\"_blank\" href=https://colab.research.google.com/notebooks/data_table.ipynb>data table notebook</a>'\n",
       "            + ' to learn more about interactive tables.';\n",
       "          element.innerHTML = '';\n",
       "          dataTable['output_type'] = 'display_data';\n",
       "          await google.colab.output.renderOutput(dataTable, element);\n",
       "          const docLink = document.createElement('div');\n",
       "          docLink.innerHTML = docLinkHtml;\n",
       "          element.appendChild(docLink);\n",
       "        }\n",
       "      </script>\n",
       "    </div>\n",
       "  </div>\n",
       "  "
      ],
      "text/plain": [
       "   вид  остров  длина клюва  ширина клюва  длина плавника  масса тела  пол\n",
       "0    0       2         39.1          18.7           181.0      3750.0    1\n",
       "1    0       2         39.5          17.4           186.0      3800.0    0\n",
       "2    0       2         40.3          18.0           195.0      3250.0    0\n",
       "3    0       2         36.7          19.3           193.0      3450.0    0\n",
       "4    0       2         39.3          20.6           190.0      3650.0    1"
      ]
     },
     "execution_count": 21,
     "metadata": {},
     "output_type": "execute_result"
    }
   ],
   "source": [
    "data.head()"
   ]
  },
  {
   "cell_type": "markdown",
   "id": "895c6334",
   "metadata": {
    "id": "895c6334"
   },
   "source": [
    "Разделим данные на признаки и целевую переменную:"
   ]
  },
  {
   "cell_type": "code",
   "execution_count": 22,
   "id": "224357b0",
   "metadata": {
    "executionInfo": {
     "elapsed": 259,
     "status": "ok",
     "timestamp": 1656339634079,
     "user": {
      "displayName": "Татьяна Андреевна Гайнцева",
      "userId": "17554479887788199937"
     },
     "user_tz": -180
    },
    "id": "224357b0"
   },
   "outputs": [],
   "source": [
    "X = data.drop(columns=['масса тела'])\n",
    "y = data['масса тела']"
   ]
  },
  {
   "cell_type": "code",
   "execution_count": 23,
   "id": "AsmKdD3Z0XrG",
   "metadata": {
    "colab": {
     "base_uri": "https://localhost:8080/",
     "height": 201
    },
    "executionInfo": {
     "elapsed": 310,
     "status": "ok",
     "timestamp": 1656339636985,
     "user": {
      "displayName": "Татьяна Андреевна Гайнцева",
      "userId": "17554479887788199937"
     },
     "user_tz": -180
    },
    "id": "AsmKdD3Z0XrG",
    "outputId": "b1a6122f-6e15-4693-cea1-91ca2457ee87"
   },
   "outputs": [
    {
     "data": {
      "text/html": [
       "\n",
       "  <div id=\"df-94778831-eff4-4783-baae-89ff9b1f53ef\">\n",
       "    <div class=\"colab-df-container\">\n",
       "      <div>\n",
       "<style scoped>\n",
       "    .dataframe tbody tr th:only-of-type {\n",
       "        vertical-align: middle;\n",
       "    }\n",
       "\n",
       "    .dataframe tbody tr th {\n",
       "        vertical-align: top;\n",
       "    }\n",
       "\n",
       "    .dataframe thead th {\n",
       "        text-align: right;\n",
       "    }\n",
       "</style>\n",
       "<table border=\"1\" class=\"dataframe\">\n",
       "  <thead>\n",
       "    <tr style=\"text-align: right;\">\n",
       "      <th></th>\n",
       "      <th>вид</th>\n",
       "      <th>остров</th>\n",
       "      <th>длина клюва</th>\n",
       "      <th>ширина клюва</th>\n",
       "      <th>длина плавника</th>\n",
       "      <th>пол</th>\n",
       "    </tr>\n",
       "  </thead>\n",
       "  <tbody>\n",
       "    <tr>\n",
       "      <th>0</th>\n",
       "      <td>0</td>\n",
       "      <td>2</td>\n",
       "      <td>39.1</td>\n",
       "      <td>18.7</td>\n",
       "      <td>181.0</td>\n",
       "      <td>1</td>\n",
       "    </tr>\n",
       "    <tr>\n",
       "      <th>1</th>\n",
       "      <td>0</td>\n",
       "      <td>2</td>\n",
       "      <td>39.5</td>\n",
       "      <td>17.4</td>\n",
       "      <td>186.0</td>\n",
       "      <td>0</td>\n",
       "    </tr>\n",
       "    <tr>\n",
       "      <th>2</th>\n",
       "      <td>0</td>\n",
       "      <td>2</td>\n",
       "      <td>40.3</td>\n",
       "      <td>18.0</td>\n",
       "      <td>195.0</td>\n",
       "      <td>0</td>\n",
       "    </tr>\n",
       "    <tr>\n",
       "      <th>3</th>\n",
       "      <td>0</td>\n",
       "      <td>2</td>\n",
       "      <td>36.7</td>\n",
       "      <td>19.3</td>\n",
       "      <td>193.0</td>\n",
       "      <td>0</td>\n",
       "    </tr>\n",
       "    <tr>\n",
       "      <th>4</th>\n",
       "      <td>0</td>\n",
       "      <td>2</td>\n",
       "      <td>39.3</td>\n",
       "      <td>20.6</td>\n",
       "      <td>190.0</td>\n",
       "      <td>1</td>\n",
       "    </tr>\n",
       "  </tbody>\n",
       "</table>\n",
       "</div>\n",
       "      <button class=\"colab-df-convert\" onclick=\"convertToInteractive('df-94778831-eff4-4783-baae-89ff9b1f53ef')\"\n",
       "              title=\"Convert this dataframe to an interactive table.\"\n",
       "              style=\"display:none;\">\n",
       "        \n",
       "  <svg xmlns=\"http://www.w3.org/2000/svg\" height=\"24px\"viewBox=\"0 0 24 24\"\n",
       "       width=\"24px\">\n",
       "    <path d=\"M0 0h24v24H0V0z\" fill=\"none\"/>\n",
       "    <path d=\"M18.56 5.44l.94 2.06.94-2.06 2.06-.94-2.06-.94-.94-2.06-.94 2.06-2.06.94zm-11 1L8.5 8.5l.94-2.06 2.06-.94-2.06-.94L8.5 2.5l-.94 2.06-2.06.94zm10 10l.94 2.06.94-2.06 2.06-.94-2.06-.94-.94-2.06-.94 2.06-2.06.94z\"/><path d=\"M17.41 7.96l-1.37-1.37c-.4-.4-.92-.59-1.43-.59-.52 0-1.04.2-1.43.59L10.3 9.45l-7.72 7.72c-.78.78-.78 2.05 0 2.83L4 21.41c.39.39.9.59 1.41.59.51 0 1.02-.2 1.41-.59l7.78-7.78 2.81-2.81c.8-.78.8-2.07 0-2.86zM5.41 20L4 18.59l7.72-7.72 1.47 1.35L5.41 20z\"/>\n",
       "  </svg>\n",
       "      </button>\n",
       "      \n",
       "  <style>\n",
       "    .colab-df-container {\n",
       "      display:flex;\n",
       "      flex-wrap:wrap;\n",
       "      gap: 12px;\n",
       "    }\n",
       "\n",
       "    .colab-df-convert {\n",
       "      background-color: #E8F0FE;\n",
       "      border: none;\n",
       "      border-radius: 50%;\n",
       "      cursor: pointer;\n",
       "      display: none;\n",
       "      fill: #1967D2;\n",
       "      height: 32px;\n",
       "      padding: 0 0 0 0;\n",
       "      width: 32px;\n",
       "    }\n",
       "\n",
       "    .colab-df-convert:hover {\n",
       "      background-color: #E2EBFA;\n",
       "      box-shadow: 0px 1px 2px rgba(60, 64, 67, 0.3), 0px 1px 3px 1px rgba(60, 64, 67, 0.15);\n",
       "      fill: #174EA6;\n",
       "    }\n",
       "\n",
       "    [theme=dark] .colab-df-convert {\n",
       "      background-color: #3B4455;\n",
       "      fill: #D2E3FC;\n",
       "    }\n",
       "\n",
       "    [theme=dark] .colab-df-convert:hover {\n",
       "      background-color: #434B5C;\n",
       "      box-shadow: 0px 1px 3px 1px rgba(0, 0, 0, 0.15);\n",
       "      filter: drop-shadow(0px 1px 2px rgba(0, 0, 0, 0.3));\n",
       "      fill: #FFFFFF;\n",
       "    }\n",
       "  </style>\n",
       "\n",
       "      <script>\n",
       "        const buttonEl =\n",
       "          document.querySelector('#df-94778831-eff4-4783-baae-89ff9b1f53ef button.colab-df-convert');\n",
       "        buttonEl.style.display =\n",
       "          google.colab.kernel.accessAllowed ? 'block' : 'none';\n",
       "\n",
       "        async function convertToInteractive(key) {\n",
       "          const element = document.querySelector('#df-94778831-eff4-4783-baae-89ff9b1f53ef');\n",
       "          const dataTable =\n",
       "            await google.colab.kernel.invokeFunction('convertToInteractive',\n",
       "                                                     [key], {});\n",
       "          if (!dataTable) return;\n",
       "\n",
       "          const docLinkHtml = 'Like what you see? Visit the ' +\n",
       "            '<a target=\"_blank\" href=https://colab.research.google.com/notebooks/data_table.ipynb>data table notebook</a>'\n",
       "            + ' to learn more about interactive tables.';\n",
       "          element.innerHTML = '';\n",
       "          dataTable['output_type'] = 'display_data';\n",
       "          await google.colab.output.renderOutput(dataTable, element);\n",
       "          const docLink = document.createElement('div');\n",
       "          docLink.innerHTML = docLinkHtml;\n",
       "          element.appendChild(docLink);\n",
       "        }\n",
       "      </script>\n",
       "    </div>\n",
       "  </div>\n",
       "  "
      ],
      "text/plain": [
       "   вид  остров  длина клюва  ширина клюва  длина плавника  пол\n",
       "0    0       2         39.1          18.7           181.0    1\n",
       "1    0       2         39.5          17.4           186.0    0\n",
       "2    0       2         40.3          18.0           195.0    0\n",
       "3    0       2         36.7          19.3           193.0    0\n",
       "4    0       2         39.3          20.6           190.0    1"
      ]
     },
     "execution_count": 23,
     "metadata": {},
     "output_type": "execute_result"
    }
   ],
   "source": [
    "X.head()"
   ]
  },
  {
   "cell_type": "markdown",
   "id": "505c7e66",
   "metadata": {
    "id": "505c7e66"
   },
   "source": [
    "Поделим данные на train и test:"
   ]
  },
  {
   "cell_type": "code",
   "execution_count": 24,
   "id": "c3bb3d0b",
   "metadata": {
    "executionInfo": {
     "elapsed": 310,
     "status": "ok",
     "timestamp": 1656339657459,
     "user": {
      "displayName": "Татьяна Андреевна Гайнцева",
      "userId": "17554479887788199937"
     },
     "user_tz": -180
    },
    "id": "c3bb3d0b"
   },
   "outputs": [],
   "source": [
    "X_train, X_test, y_train, y_test = train_test_split(X, y, test_size=0.15)"
   ]
  },
  {
   "cell_type": "markdown",
   "id": "34be6c7c",
   "metadata": {
    "id": "34be6c7c"
   },
   "source": [
    "Обучим линейную регрессию на тренировочной части:"
   ]
  },
  {
   "cell_type": "code",
   "execution_count": 25,
   "id": "501a8820",
   "metadata": {
    "executionInfo": {
     "elapsed": 298,
     "status": "ok",
     "timestamp": 1656339724631,
     "user": {
      "displayName": "Татьяна Андреевна Гайнцева",
      "userId": "17554479887788199937"
     },
     "user_tz": -180
    },
    "id": "501a8820"
   },
   "outputs": [],
   "source": [
    "lr = LinearRegression()"
   ]
  },
  {
   "cell_type": "code",
   "execution_count": 26,
   "id": "eL01iP-XU7nN",
   "metadata": {
    "colab": {
     "base_uri": "https://localhost:8080/"
    },
    "executionInfo": {
     "elapsed": 334,
     "status": "ok",
     "timestamp": 1656339733237,
     "user": {
      "displayName": "Татьяна Андреевна Гайнцева",
      "userId": "17554479887788199937"
     },
     "user_tz": -180
    },
    "id": "eL01iP-XU7nN",
    "outputId": "43d1995d-545c-4c41-aac4-01a52303ff90"
   },
   "outputs": [
    {
     "data": {
      "text/plain": [
       "LinearRegression()"
      ]
     },
     "execution_count": 26,
     "metadata": {},
     "output_type": "execute_result"
    }
   ],
   "source": [
    "lr.fit(X_train, y_train)"
   ]
  },
  {
   "cell_type": "markdown",
   "id": "338140f5",
   "metadata": {
    "id": "338140f5"
   },
   "source": [
    "Получим предсказания линейной регрессии на тренировочной и тестовой частях датасета:"
   ]
  },
  {
   "cell_type": "code",
   "execution_count": 27,
   "id": "3778af83",
   "metadata": {
    "executionInfo": {
     "elapsed": 365,
     "status": "ok",
     "timestamp": 1656339751003,
     "user": {
      "displayName": "Татьяна Андреевна Гайнцева",
      "userId": "17554479887788199937"
     },
     "user_tz": -180
    },
    "id": "3778af83"
   },
   "outputs": [],
   "source": [
    "y_train_predicted = lr.predict(X_train)\n",
    "y_test_predicted = lr.predict(X_test)"
   ]
  },
  {
   "cell_type": "markdown",
   "id": "d8f2708b",
   "metadata": {
    "id": "d8f2708b"
   },
   "source": [
    "Посчитаем MAE и MSE"
   ]
  },
  {
   "cell_type": "code",
   "execution_count": 28,
   "id": "4d7fe1fd",
   "metadata": {
    "colab": {
     "base_uri": "https://localhost:8080/"
    },
    "executionInfo": {
     "elapsed": 316,
     "status": "ok",
     "timestamp": 1656339774767,
     "user": {
      "displayName": "Татьяна Андреевна Гайнцева",
      "userId": "17554479887788199937"
     },
     "user_tz": -180
    },
    "id": "4d7fe1fd",
    "outputId": "cd569ace-31ce-43da-f375-5c339631c1ea"
   },
   "outputs": [
    {
     "data": {
      "text/plain": [
       "(256.1488692352941, 313.237345728802)"
      ]
     },
     "execution_count": 28,
     "metadata": {},
     "output_type": "execute_result"
    }
   ],
   "source": [
    "mean_absolute_error(y_train_predicted, y_train), mean_absolute_error(y_test_predicted, y_test)"
   ]
  },
  {
   "cell_type": "code",
   "execution_count": 29,
   "id": "fe1975e9",
   "metadata": {
    "colab": {
     "base_uri": "https://localhost:8080/"
    },
    "executionInfo": {
     "elapsed": 4,
     "status": "ok",
     "timestamp": 1656339775190,
     "user": {
      "displayName": "Татьяна Андреевна Гайнцева",
      "userId": "17554479887788199937"
     },
     "user_tz": -180
    },
    "id": "fe1975e9",
    "outputId": "6c4c47e2-beae-48f0-8b7c-eb627f1a0bb2"
   },
   "outputs": [
    {
     "data": {
      "text/plain": [
       "(99417.8916999486, 146062.61649191263)"
      ]
     },
     "execution_count": 29,
     "metadata": {},
     "output_type": "execute_result"
    }
   ],
   "source": [
    "mean_squared_error(y_train_predicted, y_train), mean_squared_error(y_test_predicted, y_test)"
   ]
  },
  {
   "cell_type": "markdown",
   "id": "9866a9a8",
   "metadata": {
    "id": "9866a9a8"
   },
   "source": [
    "### Оценка важности признаков линейной регрессии"
   ]
  },
  {
   "cell_type": "markdown",
   "id": "7c4aa57b",
   "metadata": {
    "id": "7c4aa57b"
   },
   "source": [
    "Давайте еще раз посмотрим на наши признаки и на коэффициенты, которые линейная регрессия поставила в соответствие каждому из них:"
   ]
  },
  {
   "cell_type": "code",
   "execution_count": 30,
   "id": "29f23579",
   "metadata": {
    "colab": {
     "base_uri": "https://localhost:8080/",
     "height": 201
    },
    "executionInfo": {
     "elapsed": 400,
     "status": "ok",
     "timestamp": 1656339826812,
     "user": {
      "displayName": "Татьяна Андреевна Гайнцева",
      "userId": "17554479887788199937"
     },
     "user_tz": -180
    },
    "id": "29f23579",
    "outputId": "0c27b8f6-6310-40de-e8ec-dc71a82f4334"
   },
   "outputs": [
    {
     "data": {
      "text/html": [
       "\n",
       "  <div id=\"df-9670345e-5456-4dd2-a7da-3d2502bf7a1e\">\n",
       "    <div class=\"colab-df-container\">\n",
       "      <div>\n",
       "<style scoped>\n",
       "    .dataframe tbody tr th:only-of-type {\n",
       "        vertical-align: middle;\n",
       "    }\n",
       "\n",
       "    .dataframe tbody tr th {\n",
       "        vertical-align: top;\n",
       "    }\n",
       "\n",
       "    .dataframe thead th {\n",
       "        text-align: right;\n",
       "    }\n",
       "</style>\n",
       "<table border=\"1\" class=\"dataframe\">\n",
       "  <thead>\n",
       "    <tr style=\"text-align: right;\">\n",
       "      <th></th>\n",
       "      <th>вид</th>\n",
       "      <th>остров</th>\n",
       "      <th>длина клюва</th>\n",
       "      <th>ширина клюва</th>\n",
       "      <th>длина плавника</th>\n",
       "      <th>пол</th>\n",
       "    </tr>\n",
       "  </thead>\n",
       "  <tbody>\n",
       "    <tr>\n",
       "      <th>297</th>\n",
       "      <td>2</td>\n",
       "      <td>0</td>\n",
       "      <td>50.8</td>\n",
       "      <td>17.3</td>\n",
       "      <td>228.0</td>\n",
       "      <td>1</td>\n",
       "    </tr>\n",
       "    <tr>\n",
       "      <th>145</th>\n",
       "      <td>0</td>\n",
       "      <td>1</td>\n",
       "      <td>41.5</td>\n",
       "      <td>18.5</td>\n",
       "      <td>201.0</td>\n",
       "      <td>1</td>\n",
       "    </tr>\n",
       "    <tr>\n",
       "      <th>93</th>\n",
       "      <td>0</td>\n",
       "      <td>1</td>\n",
       "      <td>43.2</td>\n",
       "      <td>18.5</td>\n",
       "      <td>192.0</td>\n",
       "      <td>1</td>\n",
       "    </tr>\n",
       "    <tr>\n",
       "      <th>208</th>\n",
       "      <td>1</td>\n",
       "      <td>1</td>\n",
       "      <td>45.7</td>\n",
       "      <td>17.0</td>\n",
       "      <td>195.0</td>\n",
       "      <td>0</td>\n",
       "    </tr>\n",
       "    <tr>\n",
       "      <th>263</th>\n",
       "      <td>2</td>\n",
       "      <td>0</td>\n",
       "      <td>46.6</td>\n",
       "      <td>14.2</td>\n",
       "      <td>210.0</td>\n",
       "      <td>0</td>\n",
       "    </tr>\n",
       "  </tbody>\n",
       "</table>\n",
       "</div>\n",
       "      <button class=\"colab-df-convert\" onclick=\"convertToInteractive('df-9670345e-5456-4dd2-a7da-3d2502bf7a1e')\"\n",
       "              title=\"Convert this dataframe to an interactive table.\"\n",
       "              style=\"display:none;\">\n",
       "        \n",
       "  <svg xmlns=\"http://www.w3.org/2000/svg\" height=\"24px\"viewBox=\"0 0 24 24\"\n",
       "       width=\"24px\">\n",
       "    <path d=\"M0 0h24v24H0V0z\" fill=\"none\"/>\n",
       "    <path d=\"M18.56 5.44l.94 2.06.94-2.06 2.06-.94-2.06-.94-.94-2.06-.94 2.06-2.06.94zm-11 1L8.5 8.5l.94-2.06 2.06-.94-2.06-.94L8.5 2.5l-.94 2.06-2.06.94zm10 10l.94 2.06.94-2.06 2.06-.94-2.06-.94-.94-2.06-.94 2.06-2.06.94z\"/><path d=\"M17.41 7.96l-1.37-1.37c-.4-.4-.92-.59-1.43-.59-.52 0-1.04.2-1.43.59L10.3 9.45l-7.72 7.72c-.78.78-.78 2.05 0 2.83L4 21.41c.39.39.9.59 1.41.59.51 0 1.02-.2 1.41-.59l7.78-7.78 2.81-2.81c.8-.78.8-2.07 0-2.86zM5.41 20L4 18.59l7.72-7.72 1.47 1.35L5.41 20z\"/>\n",
       "  </svg>\n",
       "      </button>\n",
       "      \n",
       "  <style>\n",
       "    .colab-df-container {\n",
       "      display:flex;\n",
       "      flex-wrap:wrap;\n",
       "      gap: 12px;\n",
       "    }\n",
       "\n",
       "    .colab-df-convert {\n",
       "      background-color: #E8F0FE;\n",
       "      border: none;\n",
       "      border-radius: 50%;\n",
       "      cursor: pointer;\n",
       "      display: none;\n",
       "      fill: #1967D2;\n",
       "      height: 32px;\n",
       "      padding: 0 0 0 0;\n",
       "      width: 32px;\n",
       "    }\n",
       "\n",
       "    .colab-df-convert:hover {\n",
       "      background-color: #E2EBFA;\n",
       "      box-shadow: 0px 1px 2px rgba(60, 64, 67, 0.3), 0px 1px 3px 1px rgba(60, 64, 67, 0.15);\n",
       "      fill: #174EA6;\n",
       "    }\n",
       "\n",
       "    [theme=dark] .colab-df-convert {\n",
       "      background-color: #3B4455;\n",
       "      fill: #D2E3FC;\n",
       "    }\n",
       "\n",
       "    [theme=dark] .colab-df-convert:hover {\n",
       "      background-color: #434B5C;\n",
       "      box-shadow: 0px 1px 3px 1px rgba(0, 0, 0, 0.15);\n",
       "      filter: drop-shadow(0px 1px 2px rgba(0, 0, 0, 0.3));\n",
       "      fill: #FFFFFF;\n",
       "    }\n",
       "  </style>\n",
       "\n",
       "      <script>\n",
       "        const buttonEl =\n",
       "          document.querySelector('#df-9670345e-5456-4dd2-a7da-3d2502bf7a1e button.colab-df-convert');\n",
       "        buttonEl.style.display =\n",
       "          google.colab.kernel.accessAllowed ? 'block' : 'none';\n",
       "\n",
       "        async function convertToInteractive(key) {\n",
       "          const element = document.querySelector('#df-9670345e-5456-4dd2-a7da-3d2502bf7a1e');\n",
       "          const dataTable =\n",
       "            await google.colab.kernel.invokeFunction('convertToInteractive',\n",
       "                                                     [key], {});\n",
       "          if (!dataTable) return;\n",
       "\n",
       "          const docLinkHtml = 'Like what you see? Visit the ' +\n",
       "            '<a target=\"_blank\" href=https://colab.research.google.com/notebooks/data_table.ipynb>data table notebook</a>'\n",
       "            + ' to learn more about interactive tables.';\n",
       "          element.innerHTML = '';\n",
       "          dataTable['output_type'] = 'display_data';\n",
       "          await google.colab.output.renderOutput(dataTable, element);\n",
       "          const docLink = document.createElement('div');\n",
       "          docLink.innerHTML = docLinkHtml;\n",
       "          element.appendChild(docLink);\n",
       "        }\n",
       "      </script>\n",
       "    </div>\n",
       "  </div>\n",
       "  "
      ],
      "text/plain": [
       "     вид  остров  длина клюва  ширина клюва  длина плавника  пол\n",
       "297    2       0         50.8          17.3           228.0    1\n",
       "145    0       1         41.5          18.5           201.0    1\n",
       "93     0       1         43.2          18.5           192.0    1\n",
       "208    1       1         45.7          17.0           195.0    0\n",
       "263    2       0         46.6          14.2           210.0    0"
      ]
     },
     "execution_count": 30,
     "metadata": {},
     "output_type": "execute_result"
    }
   ],
   "source": [
    "X_train.head()"
   ]
  },
  {
   "cell_type": "code",
   "execution_count": 31,
   "id": "2b578258",
   "metadata": {
    "colab": {
     "base_uri": "https://localhost:8080/"
    },
    "executionInfo": {
     "elapsed": 463,
     "status": "ok",
     "timestamp": 1656339831536,
     "user": {
      "displayName": "Татьяна Андреевна Гайнцева",
      "userId": "17554479887788199937"
     },
     "user_tz": -180
    },
    "id": "2b578258",
    "outputId": "5c1be2a9-3397-4332-a59a-e66a74a094d3"
   },
   "outputs": [
    {
     "data": {
      "text/plain": [
       "(array([302.96589731, -75.65886968, -22.70811607, -11.30940009,\n",
       "         30.79674976, 575.09241994]), -1290.6942080078306)"
      ]
     },
     "execution_count": 31,
     "metadata": {},
     "output_type": "execute_result"
    }
   ],
   "source": [
    "lr.coef_, lr.intercept_"
   ]
  },
  {
   "cell_type": "code",
   "execution_count": 32,
   "id": "e85363a8",
   "metadata": {
    "colab": {
     "base_uri": "https://localhost:8080/"
    },
    "executionInfo": {
     "elapsed": 8,
     "status": "ok",
     "timestamp": 1656339855035,
     "user": {
      "displayName": "Татьяна Андреевна Гайнцева",
      "userId": "17554479887788199937"
     },
     "user_tz": -180
    },
    "id": "e85363a8",
    "outputId": "c74e0cd4-19b7-4b4b-898b-4764d1915038"
   },
   "outputs": [
    {
     "name": "stdout",
     "output_type": "stream",
     "text": [
      "вид                  |   k_1   |   302.9658973057419\n",
      "остров               |   k_2   |   -75.65886967915132\n",
      "длина клюва          |   k_3   |   -22.708116068792698\n",
      "ширина клюва         |   k_4   |   -11.309400088600048\n",
      "длина плавника       |   k_5   |   30.796749759432252\n",
      "пол                  |   k_6   |   575.0924199366947\n"
     ]
    }
   ],
   "source": [
    "for i, feature in enumerate(X_train.columns):\n",
    "    print(feature, ' '*(19-len(feature)), '|  ', 'k_'+str(i+1), '  |  ', lr.coef_[i])\n"
   ]
  },
  {
   "cell_type": "markdown",
   "id": "d4a62dac",
   "metadata": {
    "id": "d4a62dac"
   },
   "source": [
    "Модули значений коэффициентов линейной регрессии отражают важности признаков. т.е. насколько важную роль признак играет в получении ответа моделью линейной регрессии.\n",
    "\n",
    "Однако нельзя считать, что чем больше модуль коэффициента при признаке, тем больше его важность. Вот почему:"
   ]
  },
  {
   "cell_type": "markdown",
   "id": "26efed5d",
   "metadata": {
    "id": "26efed5d"
   },
   "source": [
    "Уравнение линейной регрессии в данном случае имеет вид:\n",
    "\n",
    "$$ y = k_5x_5 + k_4x_4 + k_3x_3 + k_2x_2 + k_1x_1 + k_0$$\n",
    "\n",
    "Посмотрим на признаки \"вид\" ($k_1$) и \"длина плавника\" ($k_5$) и на коэффициенты, которые им соответствуют. \n",
    "\n",
    "Может показаться, что, раз коэффицент для признака $k_1$ больше по модулю, чем для признака $k_5$, то признак $k_1$ играет бОльшую роль в предсказании массы тела, чем признак $k_5$. Однако это не так. Посмотрим на то, а каких границах варьируются значения признаков $k_1$ и $k_5$:\n",
    "- у $k_1$ всего 3 варианта значения: 0, 1 и 2. Поэтому значение $k_1x_1$ будет варьироваться от 0 до примерно 300-600\n",
    "- у $k_5$ много вариантов значений, но все они лежат в диапазоне [174, 230]. Поэтому значение $k_5x_5$ будет лежать в диапазоне $\\sim $ [6500, 900]\n",
    "\n",
    "Получается, для любого элемента датасета значение $k_5x_5$ больше, чем $k_1x_1$. Более того, изменение значения признака $k_1$ меняет значение $k_1x_1$ где-то на 250, а изменение значения признака $k_5$ может менять значение $k_5x_5$ на 1000 или больше. \n",
    "\n",
    "Получается, величина $k_5x_5$ может сильнее изменять ответ, чем величина $k_1x_1$ и значение признака $k_5$ сильнее влияет на итоговый ответ, чем значение признака $k_1$. \n",
    "\n",
    "Иными словами, масса тела пингвина сильнее связана с длиной плавника пингвина, чем с видом пингвина."
   ]
  },
  {
   "cell_type": "code",
   "execution_count": 34,
   "id": "1494ddae",
   "metadata": {
    "colab": {
     "base_uri": "https://localhost:8080/"
    },
    "executionInfo": {
     "elapsed": 360,
     "status": "ok",
     "timestamp": 1656339992914,
     "user": {
      "displayName": "Татьяна Андреевна Гайнцева",
      "userId": "17554479887788199937"
     },
     "user_tz": -180
    },
    "id": "1494ddae",
    "outputId": "47f3e7fa-2f77-44d1-ebc9-a44aebdd8bc4"
   },
   "outputs": [
    {
     "data": {
      "text/plain": [
       "(172.0, 230.0)"
      ]
     },
     "execution_count": 34,
     "metadata": {},
     "output_type": "execute_result"
    }
   ],
   "source": [
    "X_train['длина плавника'].min(), X_train['длина плавника'].max()"
   ]
  },
  {
   "cell_type": "markdown",
   "id": "a854d577",
   "metadata": {
    "id": "a854d577"
   },
   "source": [
    "### Сравнение линейной регрессии и KNN"
   ]
  },
  {
   "cell_type": "markdown",
   "id": "807f7bbd",
   "metadata": {
    "id": "807f7bbd"
   },
   "source": [
    "В заключение давайте сравним качества моделей линейной регрессии и алгоритма k ближайших соседей на нашей задаче предсказания массы тела пингвина по другим его характеристикам."
   ]
  },
  {
   "cell_type": "code",
   "execution_count": 35,
   "id": "6deae8c6",
   "metadata": {
    "executionInfo": {
     "elapsed": 352,
     "status": "ok",
     "timestamp": 1656340110981,
     "user": {
      "displayName": "Татьяна Андреевна Гайнцева",
      "userId": "17554479887788199937"
     },
     "user_tz": -180
    },
    "id": "6deae8c6"
   },
   "outputs": [],
   "source": [
    "from sklearn.neighbors import KNeighborsRegressor"
   ]
  },
  {
   "cell_type": "code",
   "execution_count": 36,
   "id": "baec9087",
   "metadata": {
    "executionInfo": {
     "elapsed": 259,
     "status": "ok",
     "timestamp": 1656340134756,
     "user": {
      "displayName": "Татьяна Андреевна Гайнцева",
      "userId": "17554479887788199937"
     },
     "user_tz": -180
    },
    "id": "baec9087"
   },
   "outputs": [],
   "source": [
    "knn = KNeighborsRegressor(n_neighbors=5)"
   ]
  },
  {
   "cell_type": "code",
   "execution_count": 37,
   "id": "dd02de5b",
   "metadata": {
    "executionInfo": {
     "elapsed": 410,
     "status": "ok",
     "timestamp": 1656340158078,
     "user": {
      "displayName": "Татьяна Андреевна Гайнцева",
      "userId": "17554479887788199937"
     },
     "user_tz": -180
    },
    "id": "dd02de5b"
   },
   "outputs": [],
   "source": [
    "knn.fit(X_train, y_train)\n",
    "y_train_predicted_knn = knn.predict(X_train)\n",
    "y_test_predicted_knn = knn.predict(X_test)"
   ]
  },
  {
   "cell_type": "code",
   "execution_count": 38,
   "id": "999e0578",
   "metadata": {
    "executionInfo": {
     "elapsed": 254,
     "status": "ok",
     "timestamp": 1656340170121,
     "user": {
      "displayName": "Татьяна Андреевна Гайнцева",
      "userId": "17554479887788199937"
     },
     "user_tz": -180
    },
    "id": "999e0578"
   },
   "outputs": [],
   "source": [
    "y_train_predicted_lr = lr.predict(X_train)\n",
    "y_test_predicted_lr = lr.predict(X_test)"
   ]
  },
  {
   "cell_type": "markdown",
   "id": "4a51affc",
   "metadata": {
    "id": "4a51affc"
   },
   "source": [
    "MAE и MSE на train выборке для KNN:"
   ]
  },
  {
   "cell_type": "code",
   "execution_count": 39,
   "id": "e98c74bd",
   "metadata": {
    "colab": {
     "base_uri": "https://localhost:8080/"
    },
    "executionInfo": {
     "elapsed": 594,
     "status": "ok",
     "timestamp": 1656340179876,
     "user": {
      "displayName": "Татьяна Андреевна Гайнцева",
      "userId": "17554479887788199937"
     },
     "user_tz": -180
    },
    "id": "e98c74bd",
    "outputId": "0b14ee2a-8017-4413-9c98-0d67886551c1"
   },
   "outputs": [
    {
     "data": {
      "text/plain": [
       "(214.1696113074205, 74243.28621908127)"
      ]
     },
     "execution_count": 39,
     "metadata": {},
     "output_type": "execute_result"
    }
   ],
   "source": [
    "mean_absolute_error(y_train_predicted_knn, y_train), mean_squared_error(y_train_predicted_knn, y_train)"
   ]
  },
  {
   "cell_type": "markdown",
   "id": "bbe47a0f",
   "metadata": {
    "id": "bbe47a0f"
   },
   "source": [
    "MAE на и MSE train выборке для LR:"
   ]
  },
  {
   "cell_type": "code",
   "execution_count": 40,
   "id": "e9036bf3",
   "metadata": {
    "colab": {
     "base_uri": "https://localhost:8080/"
    },
    "executionInfo": {
     "elapsed": 384,
     "status": "ok",
     "timestamp": 1656340181035,
     "user": {
      "displayName": "Татьяна Андреевна Гайнцева",
      "userId": "17554479887788199937"
     },
     "user_tz": -180
    },
    "id": "e9036bf3",
    "outputId": "65769521-d386-4375-bd07-0734db5c070b"
   },
   "outputs": [
    {
     "data": {
      "text/plain": [
       "(256.1488692352941, 99417.8916999486)"
      ]
     },
     "execution_count": 40,
     "metadata": {},
     "output_type": "execute_result"
    }
   ],
   "source": [
    "mean_absolute_error(y_train_predicted_lr, y_train), mean_squared_error(y_train_predicted_lr, y_train)"
   ]
  },
  {
   "cell_type": "markdown",
   "id": "a32c38bd",
   "metadata": {
    "id": "a32c38bd"
   },
   "source": [
    "MAE и MSE на test выборке для KNN:"
   ]
  },
  {
   "cell_type": "code",
   "execution_count": 41,
   "id": "6012db06",
   "metadata": {
    "colab": {
     "base_uri": "https://localhost:8080/"
    },
    "executionInfo": {
     "elapsed": 274,
     "status": "ok",
     "timestamp": 1656340245512,
     "user": {
      "displayName": "Татьяна Андреевна Гайнцева",
      "userId": "17554479887788199937"
     },
     "user_tz": -180
    },
    "id": "6012db06",
    "outputId": "26e16997-4a49-4ddc-a100-983b6466dd71"
   },
   "outputs": [
    {
     "data": {
      "text/plain": [
       "(298.9, 148610.5)"
      ]
     },
     "execution_count": 41,
     "metadata": {},
     "output_type": "execute_result"
    }
   ],
   "source": [
    "mean_absolute_error(y_test_predicted_knn, y_test), mean_squared_error(y_test_predicted_knn, y_test)"
   ]
  },
  {
   "cell_type": "markdown",
   "id": "bf34e26a",
   "metadata": {
    "id": "bf34e26a"
   },
   "source": [
    "MAE и MSE на test выборке для LR:"
   ]
  },
  {
   "cell_type": "code",
   "execution_count": 42,
   "id": "dfe70a0b",
   "metadata": {
    "colab": {
     "base_uri": "https://localhost:8080/"
    },
    "executionInfo": {
     "elapsed": 10,
     "status": "ok",
     "timestamp": 1656340249993,
     "user": {
      "displayName": "Татьяна Андреевна Гайнцева",
      "userId": "17554479887788199937"
     },
     "user_tz": -180
    },
    "id": "dfe70a0b",
    "outputId": "3ed064ef-e605-49f4-f121-1cf0e91d9d2d"
   },
   "outputs": [
    {
     "data": {
      "text/plain": [
       "(313.237345728802, 146062.61649191263)"
      ]
     },
     "execution_count": 42,
     "metadata": {},
     "output_type": "execute_result"
    }
   ],
   "source": [
    "mean_absolute_error(y_test_predicted_lr, y_test), mean_squared_error(y_test_predicted_lr, y_test)"
   ]
  },
  {
   "cell_type": "markdown",
   "id": "2329c727",
   "metadata": {
    "id": "2329c727"
   },
   "source": [
    "Видим, что результаты работы алгоритмов разные, но отличаются не сильно. О том, как при решении задачи выбрать лучшую модель, вы узнаете на следующих занятиях."
   ]
  }
 ],
 "metadata": {
  "colab": {
   "collapsed_sections": [
    "crjN6_6u7cvW",
    "c884ac4e",
    "065cdcd5",
    "0d799e34",
    "db6dca35",
    "4acae652",
    "HcAH88xI79yq",
    "fRqzvM9G8GNN",
    "mWAXLpBZ8Si0",
    "0CQsOe7J8bEK",
    "7b73286a",
    "kP2ZUkKU7pNK",
    "38a0dcd6",
    "9519cd72",
    "9866a9a8"
   ],
   "name": "linear_regression_practice.ipynb",
   "provenance": []
  },
  "kernelspec": {
   "display_name": "Python 3 (ipykernel)",
   "language": "python",
   "name": "python3"
  },
  "language_info": {
   "codemirror_mode": {
    "name": "ipython",
    "version": 3
   },
   "file_extension": ".py",
   "mimetype": "text/x-python",
   "name": "python",
   "nbconvert_exporter": "python",
   "pygments_lexer": "ipython3",
   "version": "3.12.3"
  }
 },
 "nbformat": 4,
 "nbformat_minor": 5
}
